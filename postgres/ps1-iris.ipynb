{
 "cells": [
  {
   "cell_type": "markdown",
   "metadata": {},
   "source": [
    "\n",
    "\n",
    "\n",
    "# Problem Set 1 - The Iris Dataset"
   ]
  },
  {
   "cell_type": "code",
   "execution_count": 1,
   "metadata": {},
   "outputs": [],
   "source": [
    "import matplotlib.pyplot as plt\n",
    "import pandas as pd\n",
    "import seaborn as sns\n",
    "from IPython.display import display\n",
    "\n",
    "%matplotlib inline"
   ]
  },
  {
   "cell_type": "markdown",
   "metadata": {},
   "source": [
    "The Iris dataset is available from the UCI Machine Learning Repository at https://archive.ics.uci.edu/ml/machine-learning-databases/iris/iris.data.\n",
    "\n",
    "The features are given in the following order:\n",
    "\n",
    "    sepal length\n",
    "    sepal width\n",
    "    petal length\n",
    "    petal width\n",
    "    flower class "
   ]
  },
  {
   "cell_type": "markdown",
   "metadata": {},
   "source": [
    "Please use the following as the column names in your dataframe:"
   ]
  },
  {
   "cell_type": "code",
   "execution_count": 2,
   "metadata": {},
   "outputs": [],
   "source": [
    "columns = [\n",
    "    'sepal_length',\n",
    "    'sepal_width',\n",
    "    'petal_length',\n",
    "    'petal_width',\n",
    "    'flower_class'\n",
    "]"
   ]
  },
  {
   "cell_type": "markdown",
   "metadata": {},
   "source": [
    "## Load the Iris Dataset\n",
    "\n",
    "Read the Iris data into a Pandas DataFrame using the `pd.read_csv()` function. Load the data using the URL to the data set at the UCI Machine Learning Repository."
   ]
  },
  {
   "cell_type": "code",
   "execution_count": 3,
   "metadata": {
    "deletable": false,
    "nbgrader": {
     "checksum": "fda31ae3ec82c868fcfaf83b809bf860",
     "grade": false,
     "grade_id": "cell-c12569356effd436",
     "locked": false,
     "schema_version": 1,
     "solution": true
    }
   },
   "outputs": [],
   "source": [
    "def load_dataframe():\n",
    "    \"\"\"\n",
    "    Write a function that returns the iris dataset loaded in a dataframe. \n",
    "    Make sure that the columns are properly named using the variable\n",
    "    columns defined in the previous cell and that header rows\n",
    "    are properly handled.\n",
    "    \"\"\"\n",
    "    # \n",
    "    UCI_BASE_URL = 'https://archive.ics.uci.edu/'\n",
    "    ML_REP_URI = 'ml/machine-learning-databases/iris/iris.data'\n",
    "    IRIS_URL = UCI_BASE_URL + ML_REP_URI\n",
    "    iris_df = pd.read_csv(IRIS_URL, header=None)\n",
    "    iris_df.columns = [\n",
    "    'sepal_length',\n",
    "    'sepal_width',\n",
    "    'petal_length',\n",
    "    'petal_width',\n",
    "    'flower_class']\n",
    "    \n",
    "    \n",
    "    return iris_df"
   ]
  },
  {
   "cell_type": "code",
   "execution_count": null,
   "metadata": {},
   "outputs": [],
   "source": []
  },
  {
   "cell_type": "markdown",
   "metadata": {},
   "source": [
    "Your `load_dataframe` function should pass all of these tests. If all tests pass, you will see the text `\"All tests pass.\"` following the execution of the cell."
   ]
  },
  {
   "cell_type": "code",
   "execution_count": 4,
   "metadata": {
    "deletable": false,
    "editable": false,
    "nbgrader": {
     "checksum": "11b7227bf5a23a618604ff2f1af174e3",
     "grade": true,
     "grade_id": "cell-3332c8262d601bde",
     "locked": true,
     "points": 5,
     "schema_version": 1,
     "solution": false
    }
   },
   "outputs": [
    {
     "name": "stdout",
     "output_type": "stream",
     "text": [
      "All tests pass.\n"
     ]
    }
   ],
   "source": [
    "iris_df = load_dataframe()\n",
    "assert type(iris_df) == pd.DataFrame\n",
    "assert iris_df.shape == (150,5)\n",
    "assert list(iris_df.columns) == columns\n",
    "assert list(iris_df.iloc[4]) == [5.0,3.6,1.4,0.2, \"Iris-setosa\"]\n",
    "print(\"All tests pass.\")"
   ]
  },
  {
   "cell_type": "markdown",
   "metadata": {},
   "source": [
    "Display the head of your DataFrame to verify that the data was properly loaded."
   ]
  },
  {
   "cell_type": "code",
   "execution_count": 5,
   "metadata": {},
   "outputs": [
    {
     "data": {
      "text/html": [
       "<div>\n",
       "<table border=\"1\" class=\"dataframe\">\n",
       "  <thead>\n",
       "    <tr style=\"text-align: right;\">\n",
       "      <th></th>\n",
       "      <th>sepal_length</th>\n",
       "      <th>sepal_width</th>\n",
       "      <th>petal_length</th>\n",
       "      <th>petal_width</th>\n",
       "      <th>flower_class</th>\n",
       "    </tr>\n",
       "  </thead>\n",
       "  <tbody>\n",
       "    <tr>\n",
       "      <th>0</th>\n",
       "      <td>5.1</td>\n",
       "      <td>3.5</td>\n",
       "      <td>1.4</td>\n",
       "      <td>0.2</td>\n",
       "      <td>Iris-setosa</td>\n",
       "    </tr>\n",
       "    <tr>\n",
       "      <th>1</th>\n",
       "      <td>4.9</td>\n",
       "      <td>3.0</td>\n",
       "      <td>1.4</td>\n",
       "      <td>0.2</td>\n",
       "      <td>Iris-setosa</td>\n",
       "    </tr>\n",
       "    <tr>\n",
       "      <th>2</th>\n",
       "      <td>4.7</td>\n",
       "      <td>3.2</td>\n",
       "      <td>1.3</td>\n",
       "      <td>0.2</td>\n",
       "      <td>Iris-setosa</td>\n",
       "    </tr>\n",
       "    <tr>\n",
       "      <th>3</th>\n",
       "      <td>4.6</td>\n",
       "      <td>3.1</td>\n",
       "      <td>1.5</td>\n",
       "      <td>0.2</td>\n",
       "      <td>Iris-setosa</td>\n",
       "    </tr>\n",
       "    <tr>\n",
       "      <th>4</th>\n",
       "      <td>5.0</td>\n",
       "      <td>3.6</td>\n",
       "      <td>1.4</td>\n",
       "      <td>0.2</td>\n",
       "      <td>Iris-setosa</td>\n",
       "    </tr>\n",
       "  </tbody>\n",
       "</table>\n",
       "</div>"
      ],
      "text/plain": [
       "   sepal_length  sepal_width  petal_length  petal_width flower_class\n",
       "0           5.1          3.5           1.4          0.2  Iris-setosa\n",
       "1           4.9          3.0           1.4          0.2  Iris-setosa\n",
       "2           4.7          3.2           1.3          0.2  Iris-setosa\n",
       "3           4.6          3.1           1.5          0.2  Iris-setosa\n",
       "4           5.0          3.6           1.4          0.2  Iris-setosa"
      ]
     },
     "execution_count": 5,
     "metadata": {},
     "output_type": "execute_result"
    }
   ],
   "source": [
    "iris_df.head()"
   ]
  },
  {
   "cell_type": "markdown",
   "metadata": {},
   "source": [
    "Display the shape of your DataFrame to verify that the DataFrame has the correct shape "
   ]
  },
  {
   "cell_type": "code",
   "execution_count": 6,
   "metadata": {},
   "outputs": [
    {
     "data": {
      "text/plain": [
       "(150, 5)"
      ]
     },
     "execution_count": 6,
     "metadata": {},
     "output_type": "execute_result"
    }
   ],
   "source": [
    "iris_df.shape"
   ]
  },
  {
   "cell_type": "markdown",
   "metadata": {},
   "source": [
    "## Describe the DataFrame\n",
    "\n",
    "Write a function that returns the description of a DataFrame."
   ]
  },
  {
   "cell_type": "code",
   "execution_count": 7,
   "metadata": {
    "deletable": false,
    "nbgrader": {
     "checksum": "10fbd981c6d5411384573ab82f80e71b",
     "grade": false,
     "grade_id": "cell-1f7ab55565ad40c2",
     "locked": false,
     "schema_version": 1,
     "solution": true
    }
   },
   "outputs": [],
   "source": [
    "def dataframe_description(dataframe):\n",
    "    \"\"\"\n",
    "    Write a function that returns the description of a dataframe.\n",
    "    \"\"\"\n",
    "    # Write your code here.\n",
    "    description = dataframe.description()\n",
    "    return description\n",
    "    "
   ]
  },
  {
   "cell_type": "markdown",
   "metadata": {},
   "source": [
    "Your `dataframe_description` function should pass these tests. If all tests pass you should see the text `\"All tests pass.\"` and the description of the Iris Dataframe."
   ]
  },
  {
   "cell_type": "code",
   "execution_count": 8,
   "metadata": {
    "deletable": false,
    "editable": false,
    "nbgrader": {
     "checksum": "08649b53d5a365ad16cf22c33e8c5acb",
     "grade": true,
     "grade_id": "cell-a60bed8c3a336cca",
     "locked": true,
     "points": 3,
     "schema_version": 1,
     "solution": false
    }
   },
   "outputs": [
    {
     "name": "stdout",
     "output_type": "stream",
     "text": [
      "All tests pass.\n"
     ]
    },
    {
     "data": {
      "text/html": [
       "<div>\n",
       "<table border=\"1\" class=\"dataframe\">\n",
       "  <thead>\n",
       "    <tr style=\"text-align: right;\">\n",
       "      <th></th>\n",
       "      <th>sepal_length</th>\n",
       "      <th>sepal_width</th>\n",
       "      <th>petal_length</th>\n",
       "      <th>petal_width</th>\n",
       "    </tr>\n",
       "  </thead>\n",
       "  <tbody>\n",
       "    <tr>\n",
       "      <th>count</th>\n",
       "      <td>150.000000</td>\n",
       "      <td>150.000000</td>\n",
       "      <td>150.000000</td>\n",
       "      <td>150.000000</td>\n",
       "    </tr>\n",
       "    <tr>\n",
       "      <th>mean</th>\n",
       "      <td>5.843333</td>\n",
       "      <td>3.054000</td>\n",
       "      <td>3.758667</td>\n",
       "      <td>1.198667</td>\n",
       "    </tr>\n",
       "    <tr>\n",
       "      <th>std</th>\n",
       "      <td>0.828066</td>\n",
       "      <td>0.433594</td>\n",
       "      <td>1.764420</td>\n",
       "      <td>0.763161</td>\n",
       "    </tr>\n",
       "    <tr>\n",
       "      <th>min</th>\n",
       "      <td>4.300000</td>\n",
       "      <td>2.000000</td>\n",
       "      <td>1.000000</td>\n",
       "      <td>0.100000</td>\n",
       "    </tr>\n",
       "    <tr>\n",
       "      <th>25%</th>\n",
       "      <td>5.100000</td>\n",
       "      <td>2.800000</td>\n",
       "      <td>1.600000</td>\n",
       "      <td>0.300000</td>\n",
       "    </tr>\n",
       "    <tr>\n",
       "      <th>50%</th>\n",
       "      <td>5.800000</td>\n",
       "      <td>3.000000</td>\n",
       "      <td>4.350000</td>\n",
       "      <td>1.300000</td>\n",
       "    </tr>\n",
       "    <tr>\n",
       "      <th>75%</th>\n",
       "      <td>6.400000</td>\n",
       "      <td>3.300000</td>\n",
       "      <td>5.100000</td>\n",
       "      <td>1.800000</td>\n",
       "    </tr>\n",
       "    <tr>\n",
       "      <th>max</th>\n",
       "      <td>7.900000</td>\n",
       "      <td>4.400000</td>\n",
       "      <td>6.900000</td>\n",
       "      <td>2.500000</td>\n",
       "    </tr>\n",
       "  </tbody>\n",
       "</table>\n",
       "</div>"
      ],
      "text/plain": [
       "       sepal_length  sepal_width  petal_length  petal_width\n",
       "count    150.000000   150.000000    150.000000   150.000000\n",
       "mean       5.843333     3.054000      3.758667     1.198667\n",
       "std        0.828066     0.433594      1.764420     0.763161\n",
       "min        4.300000     2.000000      1.000000     0.100000\n",
       "25%        5.100000     2.800000      1.600000     0.300000\n",
       "50%        5.800000     3.000000      4.350000     1.300000\n",
       "75%        6.400000     3.300000      5.100000     1.800000\n",
       "max        7.900000     4.400000      6.900000     2.500000"
      ]
     },
     "execution_count": 8,
     "metadata": {},
     "output_type": "execute_result"
    }
   ],
   "source": [
    "assert dataframe_description(iris_df).shape == (8,4)\n",
    "assert list(dataframe_description(iris_df).index) == [\n",
    "    'count','mean','std','min',\n",
    "    '25%','50%','75%','max'\n",
    "]\n",
    "assert list(dataframe_description(iris_df).loc['min']) == [4.3,2.0,1.0,0.1]\n",
    "print(\"All tests pass.\")\n",
    "dataframe_description(iris_df)"
   ]
  },
  {
   "cell_type": "markdown",
   "metadata": {},
   "source": [
    "## Use `sns.boxplot()` to Display Box Plots of the Features"
   ]
  },
  {
   "cell_type": "code",
   "execution_count": 9,
   "metadata": {},
   "outputs": [
    {
     "name": "stderr",
     "output_type": "stream",
     "text": [
      "/opt/conda/lib/python3.6/site-packages/seaborn/categorical.py:2171: UserWarning: The boxplot API has been changed. Attempting to adjust your arguments for the new API (which might not work). Please update your code. See the version 0.6 release notes for more info.\n",
      "  warnings.warn(msg, UserWarning)\n"
     ]
    },
    {
     "data": {
      "text/plain": [
       "<matplotlib.axes._subplots.AxesSubplot at 0x7f8001bb2a58>"
      ]
     },
     "execution_count": 9,
     "metadata": {},
     "output_type": "execute_result"
    },
    {
     "data": {
      "image/png": "[encoded data removed]",
      "text/plain": [
       "<Figure size 432x288 with 1 Axes>"
      ]
     },
     "metadata": {},
     "output_type": "display_data"
    }
   ],
   "source": [
    "sns.boxplot(iris_df)"
   ]
  },
  {
   "cell_type": "markdown",
   "metadata": {},
   "source": [
    "## Use `sns.distplot` to display Distribution Plots of the Features"
   ]
  },
  {
   "cell_type": "code",
   "execution_count": 10,
   "metadata": {},
   "outputs": [
    {
     "name": "stderr",
     "output_type": "stream",
     "text": [
      "/opt/conda/lib/python3.6/site-packages/matplotlib/axes/_axes.py:6462: UserWarning: The 'normed' kwarg is deprecated, and has been replaced by the 'density' kwarg.\n",
      "  warnings.warn(\"The 'normed' kwarg is deprecated, and has been \"\n"
     ]
    },
    {
     "data": {
      "text/plain": [
       "<matplotlib.axes._subplots.AxesSubplot at 0x7f7ffbd994e0>"
      ]
     },
     "execution_count": 10,
     "metadata": {},
     "output_type": "execute_result"
    },
    {
     "data": {
      "image/png": "[encoded data removed]",
      "text/plain": [
       "<Figure size 1440x360 with 4 Axes>"
      ]
     },
     "metadata": {},
     "output_type": "display_data"
    }
   ],
   "source": [
    "_, ax = plt.subplots(1,4, figsize=(20,5))\n",
    "sns.distplot(iris_df.sepal_length, ax=ax[0])\n",
    "sns.distplot(iris_df.sepal_width, ax=ax[1])\n",
    "sns.distplot(iris_df.petal_length, ax=ax[2])\n",
    "sns.distplot(iris_df.petal_width, ax=ax[3])"
   ]
  },
  {
   "cell_type": "markdown",
   "metadata": {},
   "source": [
    "## True/False\n",
    "\n",
    "1. Sepal Width is qualitative.\n",
    "2. Sepal Length is quantitative.\n",
    "3. Petal Width is quantitative.\n",
    "4. Petal Length is qualitative.\n",
    "5. Flower Class is qualitative.\n",
    "6. If predicting Flower Class, this is a classification problem. "
   ]
  },
  {
   "cell_type": "code",
   "execution_count": 11,
   "metadata": {
    "deletable": false,
    "nbgrader": {
     "checksum": "b257ad8f4725a6e7298afe403213cadf",
     "grade": false,
     "grade_id": "cell-631a6c6c400de3ef",
     "locked": false,
     "schema_version": 1,
     "solution": true
    }
   },
   "outputs": [],
   "source": [
    "def true_false_1():\n",
    "    # Write your code here.\n",
    "    \n",
    "    return False\n",
    "\n",
    "def true_false_2():\n",
    "    # Write your code here.\n",
    "    \n",
    "    return True\n",
    "\n",
    "def true_false_3():\n",
    "    # Write your code here.\n",
    "    \n",
    "    return True\n",
    "\n",
    "def true_false_4():\n",
    "    # Write your code here.\n",
    "    \n",
    "    return False\n",
    "\n",
    "def true_false_5():\n",
    "    # Write your code here.\n",
    "    \n",
    "    return True\n",
    "\n",
    "def true_false_6():\n",
    "    # Write your code here.\n",
    "    \n",
    "    return True"
   ]
  },
  {
   "cell_type": "code",
   "execution_count": 12,
   "metadata": {
    "deletable": false,
    "editable": false,
    "nbgrader": {
     "checksum": "059e17290a5ac6f76605a8588ba148d1",
     "grade": true,
     "grade_id": "cell-827a886b6e157576",
     "locked": true,
     "points": 3,
     "schema_version": 1,
     "solution": false
    }
   },
   "outputs": [],
   "source": [
    "# These tests are Hidden.\n"
   ]
  },
  {
   "cell_type": "markdown",
   "metadata": {},
   "source": [
    "## Numerical Response\n",
    "\n",
    "1. What is the range of petal width?\n",
    "2. What is the mean of sepal length?\n",
    "3. What is the median of petal length?\n",
    "4. What is the standard deviation of sepal width?"
   ]
  },
  {
   "cell_type": "code",
   "execution_count": 21,
   "metadata": {
    "deletable": false,
    "nbgrader": {
     "checksum": "a1cfdf9cea49a9f88589f7167bcb6907",
     "grade": false,
     "grade_id": "cell-b38f030fd65ec9d0",
     "locked": false,
     "schema_version": 1,
     "solution": true
    }
   },
   "outputs": [],
   "source": [
    "def numerical_1():\n",
    "    \"\"\"Express your answer as a tuple of two floating-point numbers \n",
    "    each with one number after the decimal.\"\"\"\n",
    "    # Write your code here.\n",
    "    MaxValue = list(dataframe_description(iris_df).loc['max'])[3]\n",
    "    MinValue = list(dataframe_description(iris_df).loc['min'])[3]\n",
    "    \n",
    "    range_pw = ('%.1f' % MinValue,'%.1f' % MaxValue)\n",
    "    return range_pw\n",
    "\n",
    "def numerical_2():\n",
    "    \"\"\"Express your answer a floating-point number \n",
    "    with two numbers after the decimal.\"\"\"\n",
    "    # Write your code here.\n",
    "    MeanValue = list(dataframe_description(iris_df).loc['mean'])[0]\n",
    "    return '%.2f' % MeanValue\n",
    "\n",
    "def numerical_3():\n",
    "    \"\"\"Express your answer a floating-point number \n",
    "    with two numbers after the decimal.\"\"\"\n",
    "    # Write your code here.\n",
    "    MedianValue = list(dataframe_description(iris_df).loc['50%'])[2] \n",
    "    return '%.2f' % MedianValue    \n",
    "    \n",
    "\n",
    "def numerical_4():\n",
    "    \"\"\"Express your answer a floating-point number \n",
    "    with two numbers after the decimal.\"\"\"\n",
    "    # Write your code here.\n",
    "    STDValue = list(dataframe_description(iris_df).loc['std'])[1]     \n",
    "    return '%.2f' % STDValue\n"
   ]
  },
  {
   "cell_type": "code",
   "execution_count": 16,
   "metadata": {
    "deletable": false,
    "editable": false,
    "nbgrader": {
     "checksum": "bace7c151c79cc21698c63d44925f3eb",
     "grade": true,
     "grade_id": "cell-7df840b1890dbc9c",
     "locked": true,
     "points": 3,
     "schema_version": 1,
     "solution": false
    }
   },
   "outputs": [],
   "source": [
    "# These tests are Hidden.\n"
   ]
  },
  {
   "cell_type": "code",
   "execution_count": null,
   "metadata": {},
   "outputs": [],
   "source": []
  }
 ],
 "metadata": {
  "kernelspec": {
   "display_name": "Python 3",
   "language": "python",
   "name": "python3"
  },
  "language_info": {
   "codemirror_mode": {
    "name": "ipython",
    "version": 3
   },
   "file_extension": ".py",
   "mimetype": "text/x-python",
   "name": "python",
   "nbconvert_exporter": "python",
   "pygments_lexer": "ipython3",
   "version": "3.6.5"
  }
 },
 "nbformat": 4,
 "nbformat_minor": 2
}
