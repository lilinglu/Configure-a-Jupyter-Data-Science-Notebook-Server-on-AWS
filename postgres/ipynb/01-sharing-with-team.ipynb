{
 "cells": [
  {
   "cell_type": "markdown",
   "metadata": {},
   "source": [
    "# Sharing Processes with a Team"
   ]
  },
  {
   "cell_type": "markdown",
   "metadata": {},
   "source": [
    "## Connection and Cursor\n",
    "\n",
    "We will use a connection object to define our connection to our database over a network.\n",
    "\n",
    "We will use a cursor object to write to the database. The cursor is created by a class function of the connection object."
   ]
  },
  {
   "cell_type": "code",
   "execution_count": 1,
   "metadata": {},
   "outputs": [],
   "source": [
    "import psycopg2 as pg2\n",
    "from psycopg2.extras import RealDictCursor\n",
    "\n",
    "connection = pg2.connect(host='this_postgis',\n",
    "                         user='postgres',\n",
    "                         database='postgres')\n",
    "cursor = connection.cursor(cursor_factory=RealDictCursor)"
   ]
  },
  {
   "cell_type": "markdown",
   "metadata": {},
   "source": [
    "The cursor can be used to execute queries and then to fetch the results of the query."
   ]
  },
  {
   "cell_type": "code",
   "execution_count": 2,
   "metadata": {},
   "outputs": [],
   "source": [
    "result = cursor.execute(\"SELECT * FROM business LIMIT 2;\")"
   ]
  },
  {
   "cell_type": "code",
   "execution_count": 3,
   "metadata": {},
   "outputs": [
    {
     "data": {
      "text/plain": [
       "[{'id': 64660,\n",
       "  'name': 'HAIGHT STREET MARKET',\n",
       "  'address': '1530 HAIGHT ST ',\n",
       "  'city': 'San Francisco',\n",
       "  'state': 'CA',\n",
       "  'postal_code': 94117,\n",
       "  'latitude': 37.769957,\n",
       "  'longitude': -122.447533,\n",
       "  'phone_number': '+14152550643',\n",
       "  'gpnt_location': '0101000020E6100000C32973F38DE242405FB87361A49C5EC0'},\n",
       " {'id': 5632,\n",
       "  'name': 'AT&T - DOGGIE DINNER - RM 5333/V [145162]',\n",
       "  'address': '24 WILLIE MAYS PLAZA 5.26.01  ',\n",
       "  'city': 'San Francisco',\n",
       "  'state': 'CA',\n",
       "  'postal_code': 94107,\n",
       "  'latitude': 37.778382,\n",
       "  'longitude': -122.391151,\n",
       "  'phone_number': '+14159721500',\n",
       "  'gpnt_location': '0101000020E6100000C5E57805A2E342400D33349E08995EC0'}]"
      ]
     },
     "execution_count": 3,
     "metadata": {},
     "output_type": "execute_result"
    }
   ],
   "source": [
    "cursor.fetchall()"
   ]
  },
  {
   "cell_type": "code",
   "execution_count": 4,
   "metadata": {},
   "outputs": [],
   "source": [
    "connection.close()"
   ]
  },
  {
   "cell_type": "markdown",
   "metadata": {},
   "source": [
    "Because we used the `cursor_factory=RealDictCursor` argument, the results return a list of dictionary objects from the database. \n",
    "\n",
    "The advantage of this is that we can display these results easily with a DataFrame.\n"
   ]
  },
  {
   "cell_type": "code",
   "execution_count": 5,
   "metadata": {},
   "outputs": [],
   "source": [
    "import pandas as pd"
   ]
  },
  {
   "cell_type": "code",
   "execution_count": 6,
   "metadata": {},
   "outputs": [
    {
     "data": {
      "text/html": [
       "<div>\n",
       "<style scoped>\n",
       "    .dataframe tbody tr th:only-of-type {\n",
       "        vertical-align: middle;\n",
       "    }\n",
       "\n",
       "    .dataframe tbody tr th {\n",
       "        vertical-align: top;\n",
       "    }\n",
       "\n",
       "    .dataframe thead th {\n",
       "        text-align: right;\n",
       "    }\n",
       "</style>\n",
       "<table border=\"1\" class=\"dataframe\">\n",
       "  <thead>\n",
       "    <tr style=\"text-align: right;\">\n",
       "      <th></th>\n",
       "      <th>address</th>\n",
       "      <th>city</th>\n",
       "      <th>gpnt_location</th>\n",
       "      <th>id</th>\n",
       "      <th>latitude</th>\n",
       "      <th>longitude</th>\n",
       "      <th>name</th>\n",
       "      <th>phone_number</th>\n",
       "      <th>postal_code</th>\n",
       "      <th>state</th>\n",
       "    </tr>\n",
       "  </thead>\n",
       "  <tbody>\n",
       "    <tr>\n",
       "      <th>0</th>\n",
       "      <td>1530 HAIGHT ST</td>\n",
       "      <td>San Francisco</td>\n",
       "      <td>0101000020E6100000C32973F38DE242405FB87361A49C...</td>\n",
       "      <td>64660</td>\n",
       "      <td>37.769957</td>\n",
       "      <td>-122.447533</td>\n",
       "      <td>HAIGHT STREET MARKET</td>\n",
       "      <td>+14152550643</td>\n",
       "      <td>94117</td>\n",
       "      <td>CA</td>\n",
       "    </tr>\n",
       "    <tr>\n",
       "      <th>1</th>\n",
       "      <td>24 WILLIE MAYS PLAZA 5.26.01</td>\n",
       "      <td>San Francisco</td>\n",
       "      <td>0101000020E6100000C5E57805A2E342400D33349E0899...</td>\n",
       "      <td>5632</td>\n",
       "      <td>37.778382</td>\n",
       "      <td>-122.391151</td>\n",
       "      <td>AT&amp;T - DOGGIE DINNER - RM 5333/V [145162]</td>\n",
       "      <td>+14159721500</td>\n",
       "      <td>94107</td>\n",
       "      <td>CA</td>\n",
       "    </tr>\n",
       "  </tbody>\n",
       "</table>\n",
       "</div>"
      ],
      "text/plain": [
       "                          address           city  \\\n",
       "0                 1530 HAIGHT ST   San Francisco   \n",
       "1  24 WILLIE MAYS PLAZA 5.26.01    San Francisco   \n",
       "\n",
       "                                       gpnt_location     id   latitude  \\\n",
       "0  0101000020E6100000C32973F38DE242405FB87361A49C...  64660  37.769957   \n",
       "1  0101000020E6100000C5E57805A2E342400D33349E0899...   5632  37.778382   \n",
       "\n",
       "    longitude                                       name  phone_number  \\\n",
       "0 -122.447533                       HAIGHT STREET MARKET  +14152550643   \n",
       "1 -122.391151  AT&T - DOGGIE DINNER - RM 5333/V [145162]  +14159721500   \n",
       "\n",
       "   postal_code state  \n",
       "0        94117    CA  \n",
       "1        94107    CA  "
      ]
     },
     "execution_count": 6,
     "metadata": {},
     "output_type": "execute_result"
    }
   ],
   "source": [
    "connection = pg2.connect(host='this_postgis',\n",
    "                         user='postgres',\n",
    "                         database='postgres')\n",
    "cursor = connection.cursor(cursor_factory=RealDictCursor)\n",
    "result = cursor.execute(\"SELECT * FROM business LIMIT 2;\")\n",
    "pd.DataFrame(cursor.fetchall())"
   ]
  },
  {
   "cell_type": "code",
   "execution_count": 7,
   "metadata": {},
   "outputs": [],
   "source": [
    "connection.close()"
   ]
  },
  {
   "cell_type": "markdown",
   "metadata": {},
   "source": [
    "## `lib.db_helper`"
   ]
  },
  {
   "cell_type": "markdown",
   "metadata": {},
   "source": [
    "Because we will keep using the connection-cursor pattern, we have written it into a sub-module."
   ]
  },
  {
   "cell_type": "code",
   "execution_count": 8,
   "metadata": {},
   "outputs": [
    {
     "name": "stdout",
     "output_type": "stream",
     "text": [
      "/home/jovyan\n"
     ]
    }
   ],
   "source": [
    "cd /home/jovyan"
   ]
  },
  {
   "cell_type": "code",
   "execution_count": 9,
   "metadata": {},
   "outputs": [],
   "source": [
    "import lib.db_helper as db"
   ]
  },
  {
   "cell_type": "markdown",
   "metadata": {},
   "source": [
    "#### `db.connect_to_db()`\n",
    "\n",
    "Contains our connection credentials and returns a connection and cursor. \n",
    "\n",
    "    def connect_to_db():\n",
    "        con = pg2.connect(host='postgis',\n",
    "                          dbname='postgres',\n",
    "                          user='postgres')\n",
    "        cur = con.cursor(cursor_factory=RealDictCursor)\n",
    "        return con, cur"
   ]
  },
  {
   "cell_type": "code",
   "execution_count": 10,
   "metadata": {},
   "outputs": [
    {
     "data": {
      "text/html": [
       "<div>\n",
       "<style scoped>\n",
       "    .dataframe tbody tr th:only-of-type {\n",
       "        vertical-align: middle;\n",
       "    }\n",
       "\n",
       "    .dataframe tbody tr th {\n",
       "        vertical-align: top;\n",
       "    }\n",
       "\n",
       "    .dataframe thead th {\n",
       "        text-align: right;\n",
       "    }\n",
       "</style>\n",
       "<table border=\"1\" class=\"dataframe\">\n",
       "  <thead>\n",
       "    <tr style=\"text-align: right;\">\n",
       "      <th></th>\n",
       "      <th>address</th>\n",
       "      <th>city</th>\n",
       "      <th>gpnt_location</th>\n",
       "      <th>id</th>\n",
       "      <th>latitude</th>\n",
       "      <th>longitude</th>\n",
       "      <th>name</th>\n",
       "      <th>phone_number</th>\n",
       "      <th>postal_code</th>\n",
       "      <th>state</th>\n",
       "    </tr>\n",
       "  </thead>\n",
       "  <tbody>\n",
       "    <tr>\n",
       "      <th>0</th>\n",
       "      <td>1530 HAIGHT ST</td>\n",
       "      <td>San Francisco</td>\n",
       "      <td>0101000020E6100000C32973F38DE242405FB87361A49C...</td>\n",
       "      <td>64660</td>\n",
       "      <td>37.769957</td>\n",
       "      <td>-122.447533</td>\n",
       "      <td>HAIGHT STREET MARKET</td>\n",
       "      <td>+14152550643</td>\n",
       "      <td>94117</td>\n",
       "      <td>CA</td>\n",
       "    </tr>\n",
       "    <tr>\n",
       "      <th>1</th>\n",
       "      <td>24 WILLIE MAYS PLAZA 5.26.01</td>\n",
       "      <td>San Francisco</td>\n",
       "      <td>0101000020E6100000C5E57805A2E342400D33349E0899...</td>\n",
       "      <td>5632</td>\n",
       "      <td>37.778382</td>\n",
       "      <td>-122.391151</td>\n",
       "      <td>AT&amp;T - DOGGIE DINNER - RM 5333/V [145162]</td>\n",
       "      <td>+14159721500</td>\n",
       "      <td>94107</td>\n",
       "      <td>CA</td>\n",
       "    </tr>\n",
       "  </tbody>\n",
       "</table>\n",
       "</div>"
      ],
      "text/plain": [
       "                          address           city  \\\n",
       "0                 1530 HAIGHT ST   San Francisco   \n",
       "1  24 WILLIE MAYS PLAZA 5.26.01    San Francisco   \n",
       "\n",
       "                                       gpnt_location     id   latitude  \\\n",
       "0  0101000020E6100000C32973F38DE242405FB87361A49C...  64660  37.769957   \n",
       "1  0101000020E6100000C5E57805A2E342400D33349E0899...   5632  37.778382   \n",
       "\n",
       "    longitude                                       name  phone_number  \\\n",
       "0 -122.447533                       HAIGHT STREET MARKET  +14152550643   \n",
       "1 -122.391151  AT&T - DOGGIE DINNER - RM 5333/V [145162]  +14159721500   \n",
       "\n",
       "   postal_code state  \n",
       "0        94117    CA  \n",
       "1        94107    CA  "
      ]
     },
     "execution_count": 10,
     "metadata": {},
     "output_type": "execute_result"
    }
   ],
   "source": [
    "connection, cursor = db.connect_to_db()\n",
    "result = cursor.execute(\"SELECT * FROM business LIMIT 2;\")\n",
    "pd.DataFrame(cursor.fetchall())"
   ]
  },
  {
   "cell_type": "code",
   "execution_count": 11,
   "metadata": {},
   "outputs": [],
   "source": [
    "connection.close()"
   ]
  },
  {
   "cell_type": "markdown",
   "metadata": {},
   "source": [
    "#### `db.query_to_dictionary()`\n",
    "\n",
    "1. creates a connection and a cursor\n",
    "1. uses the cursor to execute a query\n",
    "1. if `fetch_res` is `True` it fetches the results, otherwise results are `None`\n",
    "1. closes the connection and returns `results`\n",
    "\n",
    "\n",
    "    def query_to_dictionary(query, fetch_res=True):\n",
    "        con, cur = connect_to_db()\n",
    "        cur.execute(query)\n",
    "        if fetch_res:\n",
    "            results = cur.fetchall()\n",
    "        else:\n",
    "            results = None\n",
    "        con.close()\n",
    "        return results"
   ]
  },
  {
   "cell_type": "code",
   "execution_count": 12,
   "metadata": {},
   "outputs": [
    {
     "data": {
      "text/plain": [
       "[{'id': 64660,\n",
       "  'name': 'HAIGHT STREET MARKET',\n",
       "  'address': '1530 HAIGHT ST ',\n",
       "  'city': 'San Francisco',\n",
       "  'state': 'CA',\n",
       "  'postal_code': 94117,\n",
       "  'latitude': 37.769957,\n",
       "  'longitude': -122.447533,\n",
       "  'phone_number': '+14152550643',\n",
       "  'gpnt_location': '0101000020E6100000C32973F38DE242405FB87361A49C5EC0'},\n",
       " {'id': 5632,\n",
       "  'name': 'AT&T - DOGGIE DINNER - RM 5333/V [145162]',\n",
       "  'address': '24 WILLIE MAYS PLAZA 5.26.01  ',\n",
       "  'city': 'San Francisco',\n",
       "  'state': 'CA',\n",
       "  'postal_code': 94107,\n",
       "  'latitude': 37.778382,\n",
       "  'longitude': -122.391151,\n",
       "  'phone_number': '+14159721500',\n",
       "  'gpnt_location': '0101000020E6100000C5E57805A2E342400D33349E08995EC0'}]"
      ]
     },
     "execution_count": 12,
     "metadata": {},
     "output_type": "execute_result"
    }
   ],
   "source": [
    "db.query_to_dictionary(\"\"\"SELECT * FROM business LIMIT 2;\"\"\")"
   ]
  },
  {
   "cell_type": "code",
   "execution_count": 13,
   "metadata": {},
   "outputs": [],
   "source": [
    "db.query_to_dictionary(\"\"\"SELECT * FROM business LIMIT 2;\"\"\", fetch_res=False)"
   ]
  },
  {
   "cell_type": "markdown",
   "metadata": {},
   "source": [
    "#### `db.query_to_dataframe()`\n",
    "\n",
    "Wraps `query_to_dictionary()` in a `pandas.DataFrame`.\n",
    "\n",
    "    def query_to_dataframe(query):\n",
    "        return DataFrame(query_to_dictionary(query))"
   ]
  },
  {
   "cell_type": "code",
   "execution_count": 14,
   "metadata": {},
   "outputs": [
    {
     "data": {
      "text/html": [
       "<div>\n",
       "<style scoped>\n",
       "    .dataframe tbody tr th:only-of-type {\n",
       "        vertical-align: middle;\n",
       "    }\n",
       "\n",
       "    .dataframe tbody tr th {\n",
       "        vertical-align: top;\n",
       "    }\n",
       "\n",
       "    .dataframe thead th {\n",
       "        text-align: right;\n",
       "    }\n",
       "</style>\n",
       "<table border=\"1\" class=\"dataframe\">\n",
       "  <thead>\n",
       "    <tr style=\"text-align: right;\">\n",
       "      <th></th>\n",
       "      <th>address</th>\n",
       "      <th>city</th>\n",
       "      <th>gpnt_location</th>\n",
       "      <th>id</th>\n",
       "      <th>latitude</th>\n",
       "      <th>longitude</th>\n",
       "      <th>name</th>\n",
       "      <th>phone_number</th>\n",
       "      <th>postal_code</th>\n",
       "      <th>state</th>\n",
       "    </tr>\n",
       "  </thead>\n",
       "  <tbody>\n",
       "    <tr>\n",
       "      <th>0</th>\n",
       "      <td>1530 HAIGHT ST</td>\n",
       "      <td>San Francisco</td>\n",
       "      <td>0101000020E6100000C32973F38DE242405FB87361A49C...</td>\n",
       "      <td>64660</td>\n",
       "      <td>37.769957</td>\n",
       "      <td>-122.447533</td>\n",
       "      <td>HAIGHT STREET MARKET</td>\n",
       "      <td>+14152550643</td>\n",
       "      <td>94117</td>\n",
       "      <td>CA</td>\n",
       "    </tr>\n",
       "    <tr>\n",
       "      <th>1</th>\n",
       "      <td>24 WILLIE MAYS PLAZA 5.26.01</td>\n",
       "      <td>San Francisco</td>\n",
       "      <td>0101000020E6100000C5E57805A2E342400D33349E0899...</td>\n",
       "      <td>5632</td>\n",
       "      <td>37.778382</td>\n",
       "      <td>-122.391151</td>\n",
       "      <td>AT&amp;T - DOGGIE DINNER - RM 5333/V [145162]</td>\n",
       "      <td>+14159721500</td>\n",
       "      <td>94107</td>\n",
       "      <td>CA</td>\n",
       "    </tr>\n",
       "  </tbody>\n",
       "</table>\n",
       "</div>"
      ],
      "text/plain": [
       "                          address           city  \\\n",
       "0                 1530 HAIGHT ST   San Francisco   \n",
       "1  24 WILLIE MAYS PLAZA 5.26.01    San Francisco   \n",
       "\n",
       "                                       gpnt_location     id   latitude  \\\n",
       "0  0101000020E6100000C32973F38DE242405FB87361A49C...  64660  37.769957   \n",
       "1  0101000020E6100000C5E57805A2E342400D33349E0899...   5632  37.778382   \n",
       "\n",
       "    longitude                                       name  phone_number  \\\n",
       "0 -122.447533                       HAIGHT STREET MARKET  +14152550643   \n",
       "1 -122.391151  AT&T - DOGGIE DINNER - RM 5333/V [145162]  +14159721500   \n",
       "\n",
       "   postal_code state  \n",
       "0        94117    CA  \n",
       "1        94107    CA  "
      ]
     },
     "execution_count": 14,
     "metadata": {},
     "output_type": "execute_result"
    }
   ],
   "source": [
    "db.query_to_dataframe('SELECT * FROM business LIMIT 2;')"
   ]
  },
  {
   "cell_type": "markdown",
   "metadata": {},
   "source": [
    "### Create new column in `business` table\n",
    "\n",
    "To demonstrate how transactions work, we will write a SQL query to create a new column in our database."
   ]
  },
  {
   "cell_type": "markdown",
   "metadata": {},
   "source": [
    "#### Run this if the column has already been created and you wish to run all cells in the notebook"
   ]
  },
  {
   "cell_type": "code",
   "execution_count": 15,
   "metadata": {},
   "outputs": [],
   "source": [
    "# db.query_to_dictionary(\"\"\"\n",
    "# BEGIN;\n",
    "# ALTER TABLE business DROP COLUMN gpnt_location;\n",
    "# COMMIT;\n",
    "# \"\"\", fetch_res=False)"
   ]
  },
  {
   "cell_type": "code",
   "execution_count": 16,
   "metadata": {},
   "outputs": [
    {
     "ename": "ProgrammingError",
     "evalue": "column \"gpnt_location\" of relation \"business\" already exists\n",
     "output_type": "error",
     "traceback": [
      "\u001b[0;31m---------------------------------------------------------------------------\u001b[0m",
      "\u001b[0;31mProgrammingError\u001b[0m                          Traceback (most recent call last)",
      "\u001b[0;32m<ipython-input-16-bf8411dc6ff1>\u001b[0m in \u001b[0;36m<module>\u001b[0;34m()\u001b[0m\n\u001b[1;32m      3\u001b[0m \u001b[0mALTER\u001b[0m \u001b[0mTABLE\u001b[0m \u001b[0mbusiness\u001b[0m \u001b[0mADD\u001b[0m \u001b[0mCOLUMN\u001b[0m \u001b[0mgpnt_location\u001b[0m \u001b[0mgeometry\u001b[0m\u001b[0;34m(\u001b[0m\u001b[0mPOINT\u001b[0m\u001b[0;34m,\u001b[0m\u001b[0;36m4326\u001b[0m\u001b[0;34m)\u001b[0m\u001b[0;34m;\u001b[0m\u001b[0;34m\u001b[0m\u001b[0m\n\u001b[1;32m      4\u001b[0m \u001b[0mCOMMIT\u001b[0m\u001b[0;34m;\u001b[0m\u001b[0;34m\u001b[0m\u001b[0m\n\u001b[0;32m----> 5\u001b[0;31m \"\"\", fetch_res=False)\n\u001b[0m",
      "\u001b[0;32m~/lib/db_helper.py\u001b[0m in \u001b[0;36mquery_to_dictionary\u001b[0;34m(query, fetch_res)\u001b[0m\n\u001b[1;32m     12\u001b[0m \u001b[0;32mdef\u001b[0m \u001b[0mquery_to_dictionary\u001b[0m\u001b[0;34m(\u001b[0m\u001b[0mquery\u001b[0m\u001b[0;34m,\u001b[0m \u001b[0mfetch_res\u001b[0m\u001b[0;34m=\u001b[0m\u001b[0;32mTrue\u001b[0m\u001b[0;34m)\u001b[0m\u001b[0;34m:\u001b[0m\u001b[0;34m\u001b[0m\u001b[0m\n\u001b[1;32m     13\u001b[0m     \u001b[0mcon\u001b[0m\u001b[0;34m,\u001b[0m \u001b[0mcur\u001b[0m \u001b[0;34m=\u001b[0m \u001b[0mconnect_to_db\u001b[0m\u001b[0;34m(\u001b[0m\u001b[0;34m)\u001b[0m\u001b[0;34m\u001b[0m\u001b[0m\n\u001b[0;32m---> 14\u001b[0;31m     \u001b[0mcur\u001b[0m\u001b[0;34m.\u001b[0m\u001b[0mexecute\u001b[0m\u001b[0;34m(\u001b[0m\u001b[0mquery\u001b[0m\u001b[0;34m)\u001b[0m\u001b[0;34m\u001b[0m\u001b[0m\n\u001b[0m\u001b[1;32m     15\u001b[0m     \u001b[0;32mif\u001b[0m \u001b[0mfetch_res\u001b[0m\u001b[0;34m:\u001b[0m\u001b[0;34m\u001b[0m\u001b[0m\n\u001b[1;32m     16\u001b[0m         \u001b[0mresults\u001b[0m \u001b[0;34m=\u001b[0m \u001b[0mcur\u001b[0m\u001b[0;34m.\u001b[0m\u001b[0mfetchall\u001b[0m\u001b[0;34m(\u001b[0m\u001b[0;34m)\u001b[0m\u001b[0;34m\u001b[0m\u001b[0m\n",
      "\u001b[0;32m/opt/conda/lib/python3.6/site-packages/psycopg2/extras.py\u001b[0m in \u001b[0;36mexecute\u001b[0;34m(self, query, vars)\u001b[0m\n\u001b[1;32m    247\u001b[0m         \u001b[0mself\u001b[0m\u001b[0;34m.\u001b[0m\u001b[0mcolumn_mapping\u001b[0m \u001b[0;34m=\u001b[0m \u001b[0;34m[\u001b[0m\u001b[0;34m]\u001b[0m\u001b[0;34m\u001b[0m\u001b[0m\n\u001b[1;32m    248\u001b[0m         \u001b[0mself\u001b[0m\u001b[0;34m.\u001b[0m\u001b[0m_query_executed\u001b[0m \u001b[0;34m=\u001b[0m \u001b[0;36m1\u001b[0m\u001b[0;34m\u001b[0m\u001b[0m\n\u001b[0;32m--> 249\u001b[0;31m         \u001b[0;32mreturn\u001b[0m \u001b[0msuper\u001b[0m\u001b[0;34m(\u001b[0m\u001b[0mRealDictCursor\u001b[0m\u001b[0;34m,\u001b[0m \u001b[0mself\u001b[0m\u001b[0;34m)\u001b[0m\u001b[0;34m.\u001b[0m\u001b[0mexecute\u001b[0m\u001b[0;34m(\u001b[0m\u001b[0mquery\u001b[0m\u001b[0;34m,\u001b[0m \u001b[0mvars\u001b[0m\u001b[0;34m)\u001b[0m\u001b[0;34m\u001b[0m\u001b[0m\n\u001b[0m\u001b[1;32m    250\u001b[0m \u001b[0;34m\u001b[0m\u001b[0m\n\u001b[1;32m    251\u001b[0m     \u001b[0;32mdef\u001b[0m \u001b[0mcallproc\u001b[0m\u001b[0;34m(\u001b[0m\u001b[0mself\u001b[0m\u001b[0;34m,\u001b[0m \u001b[0mprocname\u001b[0m\u001b[0;34m,\u001b[0m \u001b[0mvars\u001b[0m\u001b[0;34m=\u001b[0m\u001b[0;32mNone\u001b[0m\u001b[0;34m)\u001b[0m\u001b[0;34m:\u001b[0m\u001b[0;34m\u001b[0m\u001b[0m\n",
      "\u001b[0;31mProgrammingError\u001b[0m: column \"gpnt_location\" of relation \"business\" already exists\n"
     ]
    }
   ],
   "source": [
    "db.query_to_dictionary(\"\"\"\n",
    "BEGIN;\n",
    "ALTER TABLE business ADD COLUMN gpnt_location geometry(POINT,4326);\n",
    "COMMIT;\n",
    "\"\"\", fetch_res=False)"
   ]
  },
  {
   "cell_type": "code",
   "execution_count": 17,
   "metadata": {},
   "outputs": [
    {
     "data": {
      "text/html": [
       "<div>\n",
       "<style scoped>\n",
       "    .dataframe tbody tr th:only-of-type {\n",
       "        vertical-align: middle;\n",
       "    }\n",
       "\n",
       "    .dataframe tbody tr th {\n",
       "        vertical-align: top;\n",
       "    }\n",
       "\n",
       "    .dataframe thead th {\n",
       "        text-align: right;\n",
       "    }\n",
       "</style>\n",
       "<table border=\"1\" class=\"dataframe\">\n",
       "  <thead>\n",
       "    <tr style=\"text-align: right;\">\n",
       "      <th></th>\n",
       "      <th>address</th>\n",
       "      <th>city</th>\n",
       "      <th>gpnt_location</th>\n",
       "      <th>id</th>\n",
       "      <th>latitude</th>\n",
       "      <th>longitude</th>\n",
       "      <th>name</th>\n",
       "      <th>phone_number</th>\n",
       "      <th>postal_code</th>\n",
       "      <th>state</th>\n",
       "    </tr>\n",
       "  </thead>\n",
       "  <tbody>\n",
       "    <tr>\n",
       "      <th>0</th>\n",
       "      <td>1530 HAIGHT ST</td>\n",
       "      <td>San Francisco</td>\n",
       "      <td>0101000020E6100000C32973F38DE242405FB87361A49C...</td>\n",
       "      <td>64660</td>\n",
       "      <td>37.769957</td>\n",
       "      <td>-122.447533</td>\n",
       "      <td>HAIGHT STREET MARKET</td>\n",
       "      <td>+14152550643</td>\n",
       "      <td>94117</td>\n",
       "      <td>CA</td>\n",
       "    </tr>\n",
       "    <tr>\n",
       "      <th>1</th>\n",
       "      <td>24 WILLIE MAYS PLAZA 5.26.01</td>\n",
       "      <td>San Francisco</td>\n",
       "      <td>0101000020E6100000C5E57805A2E342400D33349E0899...</td>\n",
       "      <td>5632</td>\n",
       "      <td>37.778382</td>\n",
       "      <td>-122.391151</td>\n",
       "      <td>AT&amp;T - DOGGIE DINNER - RM 5333/V [145162]</td>\n",
       "      <td>+14159721500</td>\n",
       "      <td>94107</td>\n",
       "      <td>CA</td>\n",
       "    </tr>\n",
       "  </tbody>\n",
       "</table>\n",
       "</div>"
      ],
      "text/plain": [
       "                          address           city  \\\n",
       "0                 1530 HAIGHT ST   San Francisco   \n",
       "1  24 WILLIE MAYS PLAZA 5.26.01    San Francisco   \n",
       "\n",
       "                                       gpnt_location     id   latitude  \\\n",
       "0  0101000020E6100000C32973F38DE242405FB87361A49C...  64660  37.769957   \n",
       "1  0101000020E6100000C5E57805A2E342400D33349E0899...   5632  37.778382   \n",
       "\n",
       "    longitude                                       name  phone_number  \\\n",
       "0 -122.447533                       HAIGHT STREET MARKET  +14152550643   \n",
       "1 -122.391151  AT&T - DOGGIE DINNER - RM 5333/V [145162]  +14159721500   \n",
       "\n",
       "   postal_code state  \n",
       "0        94117    CA  \n",
       "1        94107    CA  "
      ]
     },
     "execution_count": 17,
     "metadata": {},
     "output_type": "execute_result"
    }
   ],
   "source": [
    "db.query_to_dataframe('SELECT * FROM business LIMIT 2;')"
   ]
  },
  {
   "cell_type": "markdown",
   "metadata": {},
   "source": [
    "# Clean the Data"
   ]
  },
  {
   "cell_type": "code",
   "execution_count": 18,
   "metadata": {},
   "outputs": [
    {
     "data": {
      "text/html": [
       "<div>\n",
       "<style scoped>\n",
       "    .dataframe tbody tr th:only-of-type {\n",
       "        vertical-align: middle;\n",
       "    }\n",
       "\n",
       "    .dataframe tbody tr th {\n",
       "        vertical-align: top;\n",
       "    }\n",
       "\n",
       "    .dataframe thead th {\n",
       "        text-align: right;\n",
       "    }\n",
       "</style>\n",
       "<table border=\"1\" class=\"dataframe\">\n",
       "  <thead>\n",
       "    <tr style=\"text-align: right;\">\n",
       "      <th></th>\n",
       "      <th>count</th>\n",
       "    </tr>\n",
       "  </thead>\n",
       "  <tbody>\n",
       "    <tr>\n",
       "      <th>0</th>\n",
       "      <td>6138</td>\n",
       "    </tr>\n",
       "  </tbody>\n",
       "</table>\n",
       "</div>"
      ],
      "text/plain": [
       "   count\n",
       "0   6138"
      ]
     },
     "execution_count": 18,
     "metadata": {},
     "output_type": "execute_result"
    }
   ],
   "source": [
    "select_count_business = \"\"\"\n",
    "SELECT COUNT(*) FROM business\n",
    "\"\"\"\n",
    "db.query_to_dataframe(select_count_business)"
   ]
  },
  {
   "cell_type": "code",
   "execution_count": 19,
   "metadata": {},
   "outputs": [
    {
     "data": {
      "text/html": [
       "<div>\n",
       "<style scoped>\n",
       "    .dataframe tbody tr th:only-of-type {\n",
       "        vertical-align: middle;\n",
       "    }\n",
       "\n",
       "    .dataframe tbody tr th {\n",
       "        vertical-align: top;\n",
       "    }\n",
       "\n",
       "    .dataframe thead th {\n",
       "        text-align: right;\n",
       "    }\n",
       "</style>\n",
       "<table border=\"1\" class=\"dataframe\">\n",
       "  <thead>\n",
       "    <tr style=\"text-align: right;\">\n",
       "      <th></th>\n",
       "      <th>count</th>\n",
       "      <th>postal_code</th>\n",
       "    </tr>\n",
       "  </thead>\n",
       "  <tbody>\n",
       "    <tr>\n",
       "      <th>0</th>\n",
       "      <td>1</td>\n",
       "      <td>0.0</td>\n",
       "    </tr>\n",
       "    <tr>\n",
       "      <th>1</th>\n",
       "      <td>2</td>\n",
       "      <td>94013.0</td>\n",
       "    </tr>\n",
       "    <tr>\n",
       "      <th>2</th>\n",
       "      <td>1</td>\n",
       "      <td>94101.0</td>\n",
       "    </tr>\n",
       "    <tr>\n",
       "      <th>3</th>\n",
       "      <td>447</td>\n",
       "      <td>94102.0</td>\n",
       "    </tr>\n",
       "    <tr>\n",
       "      <th>4</th>\n",
       "      <td>552</td>\n",
       "      <td>94103.0</td>\n",
       "    </tr>\n",
       "    <tr>\n",
       "      <th>5</th>\n",
       "      <td>132</td>\n",
       "      <td>94104.0</td>\n",
       "    </tr>\n",
       "    <tr>\n",
       "      <th>6</th>\n",
       "      <td>225</td>\n",
       "      <td>94105.0</td>\n",
       "    </tr>\n",
       "    <tr>\n",
       "      <th>7</th>\n",
       "      <td>429</td>\n",
       "      <td>94107.0</td>\n",
       "    </tr>\n",
       "    <tr>\n",
       "      <th>8</th>\n",
       "      <td>223</td>\n",
       "      <td>94108.0</td>\n",
       "    </tr>\n",
       "    <tr>\n",
       "      <th>9</th>\n",
       "      <td>373</td>\n",
       "      <td>94109.0</td>\n",
       "    </tr>\n",
       "    <tr>\n",
       "      <th>10</th>\n",
       "      <td>559</td>\n",
       "      <td>94110.0</td>\n",
       "    </tr>\n",
       "    <tr>\n",
       "      <th>11</th>\n",
       "      <td>280</td>\n",
       "      <td>94111.0</td>\n",
       "    </tr>\n",
       "    <tr>\n",
       "      <th>12</th>\n",
       "      <td>187</td>\n",
       "      <td>94112.0</td>\n",
       "    </tr>\n",
       "    <tr>\n",
       "      <th>13</th>\n",
       "      <td>219</td>\n",
       "      <td>94114.0</td>\n",
       "    </tr>\n",
       "    <tr>\n",
       "      <th>14</th>\n",
       "      <td>233</td>\n",
       "      <td>94115.0</td>\n",
       "    </tr>\n",
       "    <tr>\n",
       "      <th>15</th>\n",
       "      <td>94</td>\n",
       "      <td>94116.0</td>\n",
       "    </tr>\n",
       "    <tr>\n",
       "      <th>16</th>\n",
       "      <td>195</td>\n",
       "      <td>94117.0</td>\n",
       "    </tr>\n",
       "    <tr>\n",
       "      <th>17</th>\n",
       "      <td>244</td>\n",
       "      <td>94118.0</td>\n",
       "    </tr>\n",
       "    <tr>\n",
       "      <th>18</th>\n",
       "      <td>1</td>\n",
       "      <td>94120.0</td>\n",
       "    </tr>\n",
       "    <tr>\n",
       "      <th>19</th>\n",
       "      <td>161</td>\n",
       "      <td>94121.0</td>\n",
       "    </tr>\n",
       "    <tr>\n",
       "      <th>20</th>\n",
       "      <td>258</td>\n",
       "      <td>94122.0</td>\n",
       "    </tr>\n",
       "    <tr>\n",
       "      <th>21</th>\n",
       "      <td>173</td>\n",
       "      <td>94123.0</td>\n",
       "    </tr>\n",
       "    <tr>\n",
       "      <th>22</th>\n",
       "      <td>153</td>\n",
       "      <td>94124.0</td>\n",
       "    </tr>\n",
       "    <tr>\n",
       "      <th>23</th>\n",
       "      <td>67</td>\n",
       "      <td>94127.0</td>\n",
       "    </tr>\n",
       "    <tr>\n",
       "      <th>24</th>\n",
       "      <td>2</td>\n",
       "      <td>94130.0</td>\n",
       "    </tr>\n",
       "    <tr>\n",
       "      <th>25</th>\n",
       "      <td>45</td>\n",
       "      <td>94131.0</td>\n",
       "    </tr>\n",
       "    <tr>\n",
       "      <th>26</th>\n",
       "      <td>126</td>\n",
       "      <td>94132.0</td>\n",
       "    </tr>\n",
       "    <tr>\n",
       "      <th>27</th>\n",
       "      <td>425</td>\n",
       "      <td>94133.0</td>\n",
       "    </tr>\n",
       "    <tr>\n",
       "      <th>28</th>\n",
       "      <td>71</td>\n",
       "      <td>94134.0</td>\n",
       "    </tr>\n",
       "    <tr>\n",
       "      <th>29</th>\n",
       "      <td>1</td>\n",
       "      <td>94140.0</td>\n",
       "    </tr>\n",
       "    <tr>\n",
       "      <th>30</th>\n",
       "      <td>2</td>\n",
       "      <td>94143.0</td>\n",
       "    </tr>\n",
       "    <tr>\n",
       "      <th>31</th>\n",
       "      <td>11</td>\n",
       "      <td>94158.0</td>\n",
       "    </tr>\n",
       "    <tr>\n",
       "      <th>32</th>\n",
       "      <td>1</td>\n",
       "      <td>94513.0</td>\n",
       "    </tr>\n",
       "    <tr>\n",
       "      <th>33</th>\n",
       "      <td>1</td>\n",
       "      <td>94609.0</td>\n",
       "    </tr>\n",
       "    <tr>\n",
       "      <th>34</th>\n",
       "      <td>1</td>\n",
       "      <td>95105.0</td>\n",
       "    </tr>\n",
       "    <tr>\n",
       "      <th>35</th>\n",
       "      <td>243</td>\n",
       "      <td>NaN</td>\n",
       "    </tr>\n",
       "  </tbody>\n",
       "</table>\n",
       "</div>"
      ],
      "text/plain": [
       "    count  postal_code\n",
       "0       1          0.0\n",
       "1       2      94013.0\n",
       "2       1      94101.0\n",
       "3     447      94102.0\n",
       "4     552      94103.0\n",
       "5     132      94104.0\n",
       "6     225      94105.0\n",
       "7     429      94107.0\n",
       "8     223      94108.0\n",
       "9     373      94109.0\n",
       "10    559      94110.0\n",
       "11    280      94111.0\n",
       "12    187      94112.0\n",
       "13    219      94114.0\n",
       "14    233      94115.0\n",
       "15     94      94116.0\n",
       "16    195      94117.0\n",
       "17    244      94118.0\n",
       "18      1      94120.0\n",
       "19    161      94121.0\n",
       "20    258      94122.0\n",
       "21    173      94123.0\n",
       "22    153      94124.0\n",
       "23     67      94127.0\n",
       "24      2      94130.0\n",
       "25     45      94131.0\n",
       "26    126      94132.0\n",
       "27    425      94133.0\n",
       "28     71      94134.0\n",
       "29      1      94140.0\n",
       "30      2      94143.0\n",
       "31     11      94158.0\n",
       "32      1      94513.0\n",
       "33      1      94609.0\n",
       "34      1      95105.0\n",
       "35    243          NaN"
      ]
     },
     "execution_count": 19,
     "metadata": {},
     "output_type": "execute_result"
    }
   ],
   "source": [
    "select_count_by_postal_code = \"\"\"\n",
    "SELECT postal_code, COUNT(*) FROM business\n",
    "GROUP BY postal_code\n",
    "ORDER BY postal_code\n",
    "\"\"\"\n",
    "db.query_to_dataframe(select_count_by_postal_code)"
   ]
  },
  {
   "cell_type": "markdown",
   "metadata": {},
   "source": [
    "Note that we might also have invalid data."
   ]
  },
  {
   "cell_type": "code",
   "execution_count": 20,
   "metadata": {},
   "outputs": [],
   "source": [
    "select_count_business_invalid_data = \"\"\"\n",
    "SELECT COUNT(*) FROM business\n",
    "WHERE latitude = 0 AND longitude = 0;\"\"\""
   ]
  },
  {
   "cell_type": "code",
   "execution_count": 21,
   "metadata": {},
   "outputs": [
    {
     "data": {
      "text/html": [
       "<div>\n",
       "<style scoped>\n",
       "    .dataframe tbody tr th:only-of-type {\n",
       "        vertical-align: middle;\n",
       "    }\n",
       "\n",
       "    .dataframe tbody tr th {\n",
       "        vertical-align: top;\n",
       "    }\n",
       "\n",
       "    .dataframe thead th {\n",
       "        text-align: right;\n",
       "    }\n",
       "</style>\n",
       "<table border=\"1\" class=\"dataframe\">\n",
       "  <thead>\n",
       "    <tr style=\"text-align: right;\">\n",
       "      <th></th>\n",
       "      <th>count</th>\n",
       "    </tr>\n",
       "  </thead>\n",
       "  <tbody>\n",
       "    <tr>\n",
       "      <th>0</th>\n",
       "      <td>14</td>\n",
       "    </tr>\n",
       "  </tbody>\n",
       "</table>\n",
       "</div>"
      ],
      "text/plain": [
       "   count\n",
       "0     14"
      ]
     },
     "execution_count": 21,
     "metadata": {},
     "output_type": "execute_result"
    }
   ],
   "source": [
    "db.query_to_dataframe(select_count_business_invalid_data)"
   ]
  },
  {
   "cell_type": "code",
   "execution_count": 22,
   "metadata": {},
   "outputs": [],
   "source": [
    "select_count_business_valid = \"\"\"\n",
    "SELECT COUNT(*) FROM business\n",
    "WHERE \n",
    "    (latitude IS NOT NULL\n",
    "     AND longitude IS NOT NULL)\n",
    "AND \n",
    "    (latitude != 0 \n",
    "     AND longitude != 0)\n",
    "\"\"\"\n",
    "\n",
    "select_count_business_invalid = \"\"\"\n",
    "SELECT COUNT(*) FROM business\n",
    "WHERE \n",
    "    (latitude IS NULL\n",
    "     OR longitude IS NULL)\n",
    "OR \n",
    "    (latitude = 0 \n",
    "     OR longitude = 0)\n",
    "\"\"\""
   ]
  },
  {
   "cell_type": "code",
   "execution_count": 23,
   "metadata": {},
   "outputs": [
    {
     "data": {
      "text/html": [
       "<div>\n",
       "<style scoped>\n",
       "    .dataframe tbody tr th:only-of-type {\n",
       "        vertical-align: middle;\n",
       "    }\n",
       "\n",
       "    .dataframe tbody tr th {\n",
       "        vertical-align: top;\n",
       "    }\n",
       "\n",
       "    .dataframe thead th {\n",
       "        text-align: right;\n",
       "    }\n",
       "</style>\n",
       "<table border=\"1\" class=\"dataframe\">\n",
       "  <thead>\n",
       "    <tr style=\"text-align: right;\">\n",
       "      <th></th>\n",
       "      <th>count</th>\n",
       "    </tr>\n",
       "  </thead>\n",
       "  <tbody>\n",
       "    <tr>\n",
       "      <th>0</th>\n",
       "      <td>3735</td>\n",
       "    </tr>\n",
       "  </tbody>\n",
       "</table>\n",
       "</div>"
      ],
      "text/plain": [
       "   count\n",
       "0   3735"
      ]
     },
     "execution_count": 23,
     "metadata": {},
     "output_type": "execute_result"
    }
   ],
   "source": [
    "db.query_to_dataframe(select_count_business_valid)"
   ]
  },
  {
   "cell_type": "code",
   "execution_count": 24,
   "metadata": {},
   "outputs": [
    {
     "data": {
      "text/html": [
       "<div>\n",
       "<style scoped>\n",
       "    .dataframe tbody tr th:only-of-type {\n",
       "        vertical-align: middle;\n",
       "    }\n",
       "\n",
       "    .dataframe tbody tr th {\n",
       "        vertical-align: top;\n",
       "    }\n",
       "\n",
       "    .dataframe thead th {\n",
       "        text-align: right;\n",
       "    }\n",
       "</style>\n",
       "<table border=\"1\" class=\"dataframe\">\n",
       "  <thead>\n",
       "    <tr style=\"text-align: right;\">\n",
       "      <th></th>\n",
       "      <th>count</th>\n",
       "    </tr>\n",
       "  </thead>\n",
       "  <tbody>\n",
       "    <tr>\n",
       "      <th>0</th>\n",
       "      <td>2403</td>\n",
       "    </tr>\n",
       "  </tbody>\n",
       "</table>\n",
       "</div>"
      ],
      "text/plain": [
       "   count\n",
       "0   2403"
      ]
     },
     "execution_count": 24,
     "metadata": {},
     "output_type": "execute_result"
    }
   ],
   "source": [
    "db.query_to_dataframe(select_count_business_invalid)"
   ]
  },
  {
   "cell_type": "markdown",
   "metadata": {},
   "source": [
    "### Store Valid and Invalid Queries"
   ]
  },
  {
   "cell_type": "markdown",
   "metadata": {},
   "source": [
    "We will also make use of subqueries. We will define two:\n",
    "\n",
    "1. a subquery for all businesses with valid lat/long\n",
    "1. a subquery for all businesses with invalid lat/long"
   ]
  },
  {
   "cell_type": "markdown",
   "metadata": {},
   "source": [
    "#### Valid Business Query"
   ]
  },
  {
   "cell_type": "code",
   "execution_count": 25,
   "metadata": {},
   "outputs": [],
   "source": [
    "select_business_valid = \"\"\"\n",
    "SELECT * FROM business\n",
    "WHERE \n",
    "    (latitude IS NOT NULL\n",
    "     AND longitude IS NOT NULL)\n",
    "AND \n",
    "    (latitude != 0 \n",
    "     AND longitude != 0)\n",
    "\"\"\"\n",
    "\n",
    "select_business_invalid = \"\"\"\n",
    "SELECT * FROM business\n",
    "WHERE \n",
    "    (latitude IS NULL\n",
    "     OR longitude IS NULL)\n",
    "OR \n",
    "    (latitude = 0 \n",
    "     OR longitude = 0)\n",
    "\"\"\""
   ]
  },
  {
   "cell_type": "code",
   "execution_count": 26,
   "metadata": {},
   "outputs": [
    {
     "name": "stdout",
     "output_type": "stream",
     "text": [
      "(3735, 10)\n"
     ]
    },
    {
     "data": {
      "text/html": [
       "<div>\n",
       "<style scoped>\n",
       "    .dataframe tbody tr th:only-of-type {\n",
       "        vertical-align: middle;\n",
       "    }\n",
       "\n",
       "    .dataframe tbody tr th {\n",
       "        vertical-align: top;\n",
       "    }\n",
       "\n",
       "    .dataframe thead th {\n",
       "        text-align: right;\n",
       "    }\n",
       "</style>\n",
       "<table border=\"1\" class=\"dataframe\">\n",
       "  <thead>\n",
       "    <tr style=\"text-align: right;\">\n",
       "      <th></th>\n",
       "      <th>address</th>\n",
       "      <th>city</th>\n",
       "      <th>gpnt_location</th>\n",
       "      <th>id</th>\n",
       "      <th>latitude</th>\n",
       "      <th>longitude</th>\n",
       "      <th>name</th>\n",
       "      <th>phone_number</th>\n",
       "      <th>postal_code</th>\n",
       "      <th>state</th>\n",
       "    </tr>\n",
       "  </thead>\n",
       "  <tbody>\n",
       "    <tr>\n",
       "      <th>3516</th>\n",
       "      <td>570 LARKIN ST</td>\n",
       "      <td>San Francisco</td>\n",
       "      <td>0101000020E61000009BCB0D863AE44240CC5EB69DB69A...</td>\n",
       "      <td>68774</td>\n",
       "      <td>37.783036</td>\n",
       "      <td>-122.417396</td>\n",
       "      <td>FOX MARKET</td>\n",
       "      <td>+14154410690</td>\n",
       "      <td>94102.0</td>\n",
       "      <td>CA</td>\n",
       "    </tr>\n",
       "    <tr>\n",
       "      <th>491</th>\n",
       "      <td>4124 GEARY BLVD</td>\n",
       "      <td>San Francisco</td>\n",
       "      <td>0101000020E6100000FCAA5CA8FCE342408A0453CDAC9D...</td>\n",
       "      <td>1903</td>\n",
       "      <td>37.781148</td>\n",
       "      <td>-122.463672</td>\n",
       "      <td>GEARY STREET BELLA PIZZA</td>\n",
       "      <td>+14156684150</td>\n",
       "      <td>94118.0</td>\n",
       "      <td>CA</td>\n",
       "    </tr>\n",
       "    <tr>\n",
       "      <th>1094</th>\n",
       "      <td>737 DIAMOND ST</td>\n",
       "      <td>San Francisco</td>\n",
       "      <td>0101000020E6100000E38E37F92DE04240F86C1D1CEC9B...</td>\n",
       "      <td>3867</td>\n",
       "      <td>37.751403</td>\n",
       "      <td>-122.436286</td>\n",
       "      <td>BACCO</td>\n",
       "      <td>+14152824969</td>\n",
       "      <td>94114.0</td>\n",
       "      <td>CA</td>\n",
       "    </tr>\n",
       "    <tr>\n",
       "      <th>149</th>\n",
       "      <td>2401 NORIEGA ST</td>\n",
       "      <td>San Francisco</td>\n",
       "      <td>0101000020E6100000DB17D00B77E042405E85949F549F...</td>\n",
       "      <td>510</td>\n",
       "      <td>37.753633</td>\n",
       "      <td>-122.489540</td>\n",
       "      <td>DONUT TIME</td>\n",
       "      <td>+14157538997</td>\n",
       "      <td>94122.0</td>\n",
       "      <td>CA</td>\n",
       "    </tr>\n",
       "  </tbody>\n",
       "</table>\n",
       "</div>"
      ],
      "text/plain": [
       "               address           city  \\\n",
       "3516    570 LARKIN ST   San Francisco   \n",
       "491   4124 GEARY BLVD   San Francisco   \n",
       "1094    737 DIAMOND ST  San Francisco   \n",
       "149   2401 NORIEGA ST   San Francisco   \n",
       "\n",
       "                                          gpnt_location     id   latitude  \\\n",
       "3516  0101000020E61000009BCB0D863AE44240CC5EB69DB69A...  68774  37.783036   \n",
       "491   0101000020E6100000FCAA5CA8FCE342408A0453CDAC9D...   1903  37.781148   \n",
       "1094  0101000020E6100000E38E37F92DE04240F86C1D1CEC9B...   3867  37.751403   \n",
       "149   0101000020E6100000DB17D00B77E042405E85949F549F...    510  37.753633   \n",
       "\n",
       "       longitude                      name  phone_number  postal_code state  \n",
       "3516 -122.417396                FOX MARKET  +14154410690      94102.0    CA  \n",
       "491  -122.463672  GEARY STREET BELLA PIZZA  +14156684150      94118.0    CA  \n",
       "1094 -122.436286                     BACCO  +14152824969      94114.0    CA  \n",
       "149  -122.489540                DONUT TIME  +14157538997      94122.0    CA  "
      ]
     },
     "execution_count": 26,
     "metadata": {},
     "output_type": "execute_result"
    }
   ],
   "source": [
    "print(db.query_to_dataframe(select_business_valid).shape)\n",
    "db.query_to_dataframe(select_business_valid).sample(4)"
   ]
  },
  {
   "cell_type": "code",
   "execution_count": 27,
   "metadata": {},
   "outputs": [
    {
     "name": "stdout",
     "output_type": "stream",
     "text": [
      "(2403, 10)\n"
     ]
    },
    {
     "data": {
      "text/html": [
       "<div>\n",
       "<style scoped>\n",
       "    .dataframe tbody tr th:only-of-type {\n",
       "        vertical-align: middle;\n",
       "    }\n",
       "\n",
       "    .dataframe tbody tr th {\n",
       "        vertical-align: top;\n",
       "    }\n",
       "\n",
       "    .dataframe thead th {\n",
       "        text-align: right;\n",
       "    }\n",
       "</style>\n",
       "<table border=\"1\" class=\"dataframe\">\n",
       "  <thead>\n",
       "    <tr style=\"text-align: right;\">\n",
       "      <th></th>\n",
       "      <th>address</th>\n",
       "      <th>city</th>\n",
       "      <th>gpnt_location</th>\n",
       "      <th>id</th>\n",
       "      <th>latitude</th>\n",
       "      <th>longitude</th>\n",
       "      <th>name</th>\n",
       "      <th>phone_number</th>\n",
       "      <th>postal_code</th>\n",
       "      <th>state</th>\n",
       "    </tr>\n",
       "  </thead>\n",
       "  <tbody>\n",
       "    <tr>\n",
       "      <th>539</th>\n",
       "      <td>226 KEARNY ST</td>\n",
       "      <td>San Francisco</td>\n",
       "      <td>None</td>\n",
       "      <td>73849</td>\n",
       "      <td>NaN</td>\n",
       "      <td>NaN</td>\n",
       "      <td>SUSHIRRITO</td>\n",
       "      <td>+14153229549</td>\n",
       "      <td>94108.0</td>\n",
       "      <td>CA</td>\n",
       "    </tr>\n",
       "    <tr>\n",
       "      <th>1312</th>\n",
       "      <td>1788 32ND AVE</td>\n",
       "      <td>San Francisco</td>\n",
       "      <td>None</td>\n",
       "      <td>79626</td>\n",
       "      <td>NaN</td>\n",
       "      <td>NaN</td>\n",
       "      <td>BUBBLE CAFE</td>\n",
       "      <td>+14158302940</td>\n",
       "      <td>94122.0</td>\n",
       "      <td>CA</td>\n",
       "    </tr>\n",
       "    <tr>\n",
       "      <th>2094</th>\n",
       "      <td>2001 CHESTNUT ST</td>\n",
       "      <td>San Francisco</td>\n",
       "      <td>None</td>\n",
       "      <td>84619</td>\n",
       "      <td>NaN</td>\n",
       "      <td>NaN</td>\n",
       "      <td>THE DORIAN</td>\n",
       "      <td>+14152180203</td>\n",
       "      <td>94123.0</td>\n",
       "      <td>CA</td>\n",
       "    </tr>\n",
       "    <tr>\n",
       "      <th>511</th>\n",
       "      <td>5501 CALIFORNIA ST</td>\n",
       "      <td>San Francisco</td>\n",
       "      <td>None</td>\n",
       "      <td>72002</td>\n",
       "      <td>NaN</td>\n",
       "      <td>NaN</td>\n",
       "      <td>JAPONICA</td>\n",
       "      <td></td>\n",
       "      <td>94121.0</td>\n",
       "      <td>CA</td>\n",
       "    </tr>\n",
       "  </tbody>\n",
       "</table>\n",
       "</div>"
      ],
      "text/plain": [
       "                  address           city gpnt_location     id  latitude  \\\n",
       "539        226 KEARNY ST   San Francisco          None  73849       NaN   \n",
       "1312       1788 32ND AVE   San Francisco          None  79626       NaN   \n",
       "2094    2001 CHESTNUT ST   San Francisco          None  84619       NaN   \n",
       "511   5501 CALIFORNIA ST   San Francisco          None  72002       NaN   \n",
       "\n",
       "      longitude         name  phone_number  postal_code state  \n",
       "539         NaN   SUSHIRRITO  +14153229549      94108.0    CA  \n",
       "1312        NaN  BUBBLE CAFE  +14158302940      94122.0    CA  \n",
       "2094        NaN   THE DORIAN  +14152180203      94123.0    CA  \n",
       "511         NaN     JAPONICA                    94121.0    CA  "
      ]
     },
     "execution_count": 27,
     "metadata": {},
     "output_type": "execute_result"
    }
   ],
   "source": [
    "print(db.query_to_dataframe(select_business_invalid).shape)\n",
    "db.query_to_dataframe(select_business_invalid).sample(4)"
   ]
  },
  {
   "cell_type": "markdown",
   "metadata": {},
   "source": [
    "### Explore Postal Code and Lat/Long"
   ]
  },
  {
   "cell_type": "markdown",
   "metadata": {},
   "source": [
    "First, let's get the postal codes with a count of less than 10. We will use a sub-query.\n",
    "\n",
    "Let's use these subqueries to help us to clean the data. "
   ]
  },
  {
   "cell_type": "markdown",
   "metadata": {},
   "source": [
    "Note that we re-use `select_count_by_postal_code`."
   ]
  },
  {
   "cell_type": "code",
   "execution_count": 28,
   "metadata": {},
   "outputs": [
    {
     "name": "stdout",
     "output_type": "stream",
     "text": [
      "\n",
      "SELECT postal_code, COUNT(*) FROM business\n",
      "GROUP BY postal_code\n",
      "ORDER BY postal_code\n",
      "\n"
     ]
    }
   ],
   "source": [
    "print(select_count_by_postal_code)"
   ]
  },
  {
   "cell_type": "code",
   "execution_count": 29,
   "metadata": {},
   "outputs": [
    {
     "name": "stdout",
     "output_type": "stream",
     "text": [
      "\n",
      "SELECT postal_code FROM \n",
      "    (\n",
      "SELECT postal_code, COUNT(*) FROM business\n",
      "GROUP BY postal_code\n",
      "ORDER BY postal_code\n",
      ") this_subquery\n",
      "WHERE count < 10\n",
      "\n"
     ]
    }
   ],
   "source": [
    "select_postal_code_by_postal_code_less_than_10 = \"\"\"\n",
    "SELECT postal_code FROM \n",
    "    ({}) this_subquery\n",
    "WHERE count < 10\n",
    "\"\"\".format(select_count_by_postal_code)\n",
    "\n",
    "print(select_postal_code_by_postal_code_less_than_10)"
   ]
  },
  {
   "cell_type": "markdown",
   "metadata": {},
   "source": [
    "Note that we are using a subquery here. \n",
    "\n",
    "e.g. \n",
    "\n",
    "    SELECT * FROM (SUBQUERY) sub_query_name;\n",
    "    "
   ]
  },
  {
   "cell_type": "code",
   "execution_count": 30,
   "metadata": {},
   "outputs": [
    {
     "data": {
      "text/html": [
       "<div>\n",
       "<style scoped>\n",
       "    .dataframe tbody tr th:only-of-type {\n",
       "        vertical-align: middle;\n",
       "    }\n",
       "\n",
       "    .dataframe tbody tr th {\n",
       "        vertical-align: top;\n",
       "    }\n",
       "\n",
       "    .dataframe thead th {\n",
       "        text-align: right;\n",
       "    }\n",
       "</style>\n",
       "<table border=\"1\" class=\"dataframe\">\n",
       "  <thead>\n",
       "    <tr style=\"text-align: right;\">\n",
       "      <th></th>\n",
       "      <th>postal_code</th>\n",
       "    </tr>\n",
       "  </thead>\n",
       "  <tbody>\n",
       "    <tr>\n",
       "      <th>0</th>\n",
       "      <td>0</td>\n",
       "    </tr>\n",
       "    <tr>\n",
       "      <th>1</th>\n",
       "      <td>94013</td>\n",
       "    </tr>\n",
       "    <tr>\n",
       "      <th>2</th>\n",
       "      <td>94101</td>\n",
       "    </tr>\n",
       "    <tr>\n",
       "      <th>3</th>\n",
       "      <td>94120</td>\n",
       "    </tr>\n",
       "    <tr>\n",
       "      <th>4</th>\n",
       "      <td>94130</td>\n",
       "    </tr>\n",
       "    <tr>\n",
       "      <th>5</th>\n",
       "      <td>94140</td>\n",
       "    </tr>\n",
       "    <tr>\n",
       "      <th>6</th>\n",
       "      <td>94143</td>\n",
       "    </tr>\n",
       "    <tr>\n",
       "      <th>7</th>\n",
       "      <td>94513</td>\n",
       "    </tr>\n",
       "    <tr>\n",
       "      <th>8</th>\n",
       "      <td>94609</td>\n",
       "    </tr>\n",
       "    <tr>\n",
       "      <th>9</th>\n",
       "      <td>95105</td>\n",
       "    </tr>\n",
       "  </tbody>\n",
       "</table>\n",
       "</div>"
      ],
      "text/plain": [
       "   postal_code\n",
       "0            0\n",
       "1        94013\n",
       "2        94101\n",
       "3        94120\n",
       "4        94130\n",
       "5        94140\n",
       "6        94143\n",
       "7        94513\n",
       "8        94609\n",
       "9        95105"
      ]
     },
     "execution_count": 30,
     "metadata": {},
     "output_type": "execute_result"
    }
   ],
   "source": [
    "db.query_to_dataframe(select_postal_code_by_postal_code_less_than_10)"
   ]
  },
  {
   "cell_type": "markdown",
   "metadata": {},
   "source": [
    "We'll think of these as our \"bad postal codes\". We can think of the query we defined as a list of these codes. That query was"
   ]
  },
  {
   "cell_type": "code",
   "execution_count": 31,
   "metadata": {},
   "outputs": [],
   "source": [
    "bad_postal_codes = select_postal_code_by_postal_code_less_than_10"
   ]
  },
  {
   "cell_type": "code",
   "execution_count": 32,
   "metadata": {},
   "outputs": [
    {
     "name": "stdout",
     "output_type": "stream",
     "text": [
      "\n",
      "SELECT postal_code FROM \n",
      "    (\n",
      "SELECT postal_code, COUNT(*) FROM business\n",
      "GROUP BY postal_code\n",
      "ORDER BY postal_code\n",
      ") this_subquery\n",
      "WHERE count < 10\n",
      "\n"
     ]
    }
   ],
   "source": [
    "print(bad_postal_codes)"
   ]
  },
  {
   "cell_type": "markdown",
   "metadata": {},
   "source": [
    "Do we have (lat,long) pairs for these locations? Let's select all rows with one of these postal codes."
   ]
  },
  {
   "cell_type": "markdown",
   "metadata": {},
   "source": [
    "### `IN`"
   ]
  },
  {
   "cell_type": "markdown",
   "metadata": {},
   "source": [
    "To do this we will use the SQL keyword `IN`. `IN` checks a column against a list of items."
   ]
  },
  {
   "cell_type": "markdown",
   "metadata": {},
   "source": [
    "e.g. \n",
    "\n",
    "    SELECT * FROM my_table WHERE my_column IN ('1,2,3,4,5');"
   ]
  },
  {
   "cell_type": "markdown",
   "metadata": {},
   "source": [
    "# We will replace the list with our Sub-Query!! "
   ]
  },
  {
   "cell_type": "code",
   "execution_count": 33,
   "metadata": {},
   "outputs": [
    {
     "name": "stdout",
     "output_type": "stream",
     "text": [
      "\n",
      "SELECT * FROM business WHERE postal_code IN (\n",
      "SELECT postal_code FROM \n",
      "    (\n",
      "SELECT postal_code, COUNT(*) FROM business\n",
      "GROUP BY postal_code\n",
      "ORDER BY postal_code\n",
      ") this_subquery\n",
      "WHERE count < 10\n",
      ")\n"
     ]
    }
   ],
   "source": [
    "select_business_where_bad_postal_code = \"\"\"\n",
    "SELECT * FROM business WHERE postal_code IN ({})\"\"\".format(bad_postal_codes)\n",
    "print(select_business_where_bad_postal_code)"
   ]
  },
  {
   "cell_type": "code",
   "execution_count": 34,
   "metadata": {},
   "outputs": [
    {
     "data": {
      "text/html": [
       "<div>\n",
       "<style scoped>\n",
       "    .dataframe tbody tr th:only-of-type {\n",
       "        vertical-align: middle;\n",
       "    }\n",
       "\n",
       "    .dataframe tbody tr th {\n",
       "        vertical-align: top;\n",
       "    }\n",
       "\n",
       "    .dataframe thead th {\n",
       "        text-align: right;\n",
       "    }\n",
       "</style>\n",
       "<table border=\"1\" class=\"dataframe\">\n",
       "  <thead>\n",
       "    <tr style=\"text-align: right;\">\n",
       "      <th></th>\n",
       "      <th>address</th>\n",
       "      <th>city</th>\n",
       "      <th>gpnt_location</th>\n",
       "      <th>id</th>\n",
       "      <th>latitude</th>\n",
       "      <th>longitude</th>\n",
       "      <th>name</th>\n",
       "      <th>phone_number</th>\n",
       "      <th>postal_code</th>\n",
       "      <th>state</th>\n",
       "    </tr>\n",
       "  </thead>\n",
       "  <tbody>\n",
       "    <tr>\n",
       "      <th>11</th>\n",
       "      <td>41 MONTGOMERY ST</td>\n",
       "      <td>San Francisco</td>\n",
       "      <td>0101000020E6100000923B6C2233E34240C53C2B69C59A...</td>\n",
       "      <td>65856</td>\n",
       "      <td>37.774998</td>\n",
       "      <td>-122.418299</td>\n",
       "      <td>BAMBOO ASIA</td>\n",
       "      <td>+14156246790</td>\n",
       "      <td>94101</td>\n",
       "      <td>CA</td>\n",
       "    </tr>\n",
       "    <tr>\n",
       "      <th>9</th>\n",
       "      <td>500 PARNASSUS AVE J LEVEL</td>\n",
       "      <td>San Francisco</td>\n",
       "      <td>0101000020E61000008330B77BB9E142408E3D7B2E539D...</td>\n",
       "      <td>65425</td>\n",
       "      <td>37.763473</td>\n",
       "      <td>-122.458202</td>\n",
       "      <td>PANDA EXPRESS</td>\n",
       "      <td>+14156657957</td>\n",
       "      <td>94143</td>\n",
       "      <td>CA</td>\n",
       "    </tr>\n",
       "    <tr>\n",
       "      <th>5</th>\n",
       "      <td>2 AVE OF PALMS BLDG 146, TREASURE ISLAND</td>\n",
       "      <td>San Francisco</td>\n",
       "      <td>0101000020E6100000C6DFF60489E94240F7ADD689CB97...</td>\n",
       "      <td>38139</td>\n",
       "      <td>37.824494</td>\n",
       "      <td>-122.371798</td>\n",
       "      <td>ISLAND MARKET &amp; DELI</td>\n",
       "      <td>+14158600303</td>\n",
       "      <td>94130</td>\n",
       "      <td>CA</td>\n",
       "    </tr>\n",
       "    <tr>\n",
       "      <th>10</th>\n",
       "      <td>PUBLIC RIGHT OF WAY</td>\n",
       "      <td>San Francisco</td>\n",
       "      <td>0101000020E6100000B7291E17D5EA42404E637B2DE890...</td>\n",
       "      <td>65673</td>\n",
       "      <td>37.834628</td>\n",
       "      <td>-122.264171</td>\n",
       "      <td>DOC'S OF THE BAY</td>\n",
       "      <td>+14156883245</td>\n",
       "      <td>94609</td>\n",
       "      <td>CA</td>\n",
       "    </tr>\n",
       "    <tr>\n",
       "      <th>0</th>\n",
       "      <td>820 BRYANT STREET</td>\n",
       "      <td>San Francisco</td>\n",
       "      <td>0101000020E61000009D2D20B41EF0424069519FE40E6D...</td>\n",
       "      <td>3827</td>\n",
       "      <td>37.875937</td>\n",
       "      <td>-121.704034</td>\n",
       "      <td>MCDONALDS</td>\n",
       "      <td>+14158645282</td>\n",
       "      <td>94513</td>\n",
       "      <td>CA</td>\n",
       "    </tr>\n",
       "  </tbody>\n",
       "</table>\n",
       "</div>"
      ],
      "text/plain": [
       "                                        address           city  \\\n",
       "11                            41 MONTGOMERY ST   San Francisco   \n",
       "9                     500 PARNASSUS AVE J LEVEL  San Francisco   \n",
       "5    2 AVE OF PALMS BLDG 146, TREASURE ISLAND    San Francisco   \n",
       "10                        PUBLIC RIGHT OF WAY    San Francisco   \n",
       "0                             820 BRYANT STREET  San Francisco   \n",
       "\n",
       "                                        gpnt_location     id   latitude  \\\n",
       "11  0101000020E6100000923B6C2233E34240C53C2B69C59A...  65856  37.774998   \n",
       "9   0101000020E61000008330B77BB9E142408E3D7B2E539D...  65425  37.763473   \n",
       "5   0101000020E6100000C6DFF60489E94240F7ADD689CB97...  38139  37.824494   \n",
       "10  0101000020E6100000B7291E17D5EA42404E637B2DE890...  65673  37.834628   \n",
       "0   0101000020E61000009D2D20B41EF0424069519FE40E6D...   3827  37.875937   \n",
       "\n",
       "     longitude                  name  phone_number  postal_code state  \n",
       "11 -122.418299           BAMBOO ASIA  +14156246790        94101    CA  \n",
       "9  -122.458202         PANDA EXPRESS  +14156657957        94143    CA  \n",
       "5  -122.371798  ISLAND MARKET & DELI  +14158600303        94130    CA  \n",
       "10 -122.264171      DOC'S OF THE BAY  +14156883245        94609    CA  \n",
       "0  -121.704034             MCDONALDS  +14158645282        94513    CA  "
      ]
     },
     "execution_count": 34,
     "metadata": {},
     "output_type": "execute_result"
    }
   ],
   "source": [
    "db.query_to_dataframe(select_business_where_bad_postal_code).sample(5)"
   ]
  },
  {
   "cell_type": "markdown",
   "metadata": {},
   "source": [
    "Note that some of these have a lat and long. "
   ]
  },
  {
   "cell_type": "markdown",
   "metadata": {},
   "source": [
    "What we want is rows that have \"bad postal codes\" and no (lat, long) pair. "
   ]
  },
  {
   "cell_type": "markdown",
   "metadata": {},
   "source": [
    "### A Nested Query\n",
    "\n",
    "To get these we will write a nested query that looks like this:\n",
    "\n",
    "    SELECT * FROM (invalid_lat_long) WHERE postal_code IN (bad_postal_code_str)"
   ]
  },
  {
   "cell_type": "code",
   "execution_count": 35,
   "metadata": {},
   "outputs": [
    {
     "name": "stdout",
     "output_type": "stream",
     "text": [
      "\n",
      "SELECT * \n",
      "FROM (\n",
      "SELECT * FROM business\n",
      "WHERE \n",
      "    (latitude IS NULL\n",
      "     OR longitude IS NULL)\n",
      "OR \n",
      "    (latitude = 0 \n",
      "     OR longitude = 0)\n",
      ") this_subquery\n",
      "WHERE postal_code IN (\n",
      "SELECT postal_code FROM \n",
      "    (\n",
      "SELECT postal_code, COUNT(*) FROM business\n",
      "GROUP BY postal_code\n",
      "ORDER BY postal_code\n",
      ") this_subquery\n",
      "WHERE count < 10\n",
      ")\n",
      "\n"
     ]
    }
   ],
   "source": [
    "select_invalid_business_where_bad_postal_code = \"\"\"\n",
    "SELECT * \n",
    "FROM (\"\"\" + select_business_invalid + \"\"\") this_subquery\n",
    "WHERE postal_code IN (\"\"\" + bad_postal_codes + \"\"\")\n",
    "\"\"\"\n",
    "print(select_invalid_business_where_bad_postal_code)"
   ]
  },
  {
   "cell_type": "code",
   "execution_count": 36,
   "metadata": {},
   "outputs": [
    {
     "name": "stdout",
     "output_type": "stream",
     "text": [
      "\n",
      "SELECT * \n",
      "FROM (\n",
      "SELECT * FROM business\n",
      "WHERE \n",
      "    (latitude IS NULL\n",
      "     OR longitude IS NULL)\n",
      "OR \n",
      "    (latitude = 0 \n",
      "     OR longitude = 0)\n",
      ") q\n",
      "WHERE postal_code IN (\n",
      "SELECT postal_code FROM \n",
      "    (\n",
      "SELECT postal_code, COUNT(*) FROM business\n",
      "GROUP BY postal_code\n",
      "ORDER BY postal_code\n",
      ") this_subquery\n",
      "WHERE count < 10\n",
      ")\n",
      "\n"
     ]
    }
   ],
   "source": [
    "select_invalid_business_where_bad_postal_code = \"\"\"\n",
    "SELECT * \n",
    "FROM ({}) q\n",
    "WHERE postal_code IN ({})\n",
    "\"\"\".format(select_business_invalid, bad_postal_codes)\n",
    "print(select_invalid_business_where_bad_postal_code)"
   ]
  },
  {
   "cell_type": "code",
   "execution_count": 37,
   "metadata": {},
   "outputs": [
    {
     "data": {
      "text/html": [
       "<div>\n",
       "<style scoped>\n",
       "    .dataframe tbody tr th:only-of-type {\n",
       "        vertical-align: middle;\n",
       "    }\n",
       "\n",
       "    .dataframe tbody tr th {\n",
       "        vertical-align: top;\n",
       "    }\n",
       "\n",
       "    .dataframe thead th {\n",
       "        text-align: right;\n",
       "    }\n",
       "</style>\n",
       "<table border=\"1\" class=\"dataframe\">\n",
       "  <thead>\n",
       "    <tr style=\"text-align: right;\">\n",
       "      <th></th>\n",
       "    </tr>\n",
       "  </thead>\n",
       "  <tbody>\n",
       "  </tbody>\n",
       "</table>\n",
       "</div>"
      ],
      "text/plain": [
       "Empty DataFrame\n",
       "Columns: []\n",
       "Index: []"
      ]
     },
     "execution_count": 37,
     "metadata": {},
     "output_type": "execute_result"
    }
   ],
   "source": [
    "db.query_to_dataframe(select_invalid_business_where_bad_postal_code)"
   ]
  },
  {
   "cell_type": "markdown",
   "metadata": {},
   "source": [
    "#### Let's use `DELETE` to get rid of rows that have no lat, long and a bad zip"
   ]
  },
  {
   "cell_type": "markdown",
   "metadata": {},
   "source": [
    "First, let's collect a list of business `id`s. "
   ]
  },
  {
   "cell_type": "code",
   "execution_count": 38,
   "metadata": {},
   "outputs": [
    {
     "name": "stdout",
     "output_type": "stream",
     "text": [
      "\n",
      "SELECT id \n",
      "FROM (\n",
      "SELECT * FROM business\n",
      "WHERE \n",
      "    (latitude IS NULL\n",
      "     OR longitude IS NULL)\n",
      "OR \n",
      "    (latitude = 0 \n",
      "     OR longitude = 0)\n",
      ") q\n",
      "WHERE postal_code IN (\n",
      "SELECT postal_code FROM \n",
      "    (\n",
      "SELECT postal_code, COUNT(*) FROM business\n",
      "GROUP BY postal_code\n",
      "ORDER BY postal_code\n",
      ") this_subquery\n",
      "WHERE count < 10\n",
      ")\n",
      "\n"
     ]
    }
   ],
   "source": [
    "select_invalid_business_id_where_bad_postal_code = \"\"\"\n",
    "SELECT id \n",
    "FROM ({}) q\n",
    "WHERE postal_code IN ({})\n",
    "\"\"\".format(select_business_invalid, select_postal_code_by_postal_code_less_than_10)\n",
    "print(select_invalid_business_id_where_bad_postal_code)"
   ]
  },
  {
   "cell_type": "code",
   "execution_count": 39,
   "metadata": {},
   "outputs": [
    {
     "data": {
      "text/html": [
       "<div>\n",
       "<style scoped>\n",
       "    .dataframe tbody tr th:only-of-type {\n",
       "        vertical-align: middle;\n",
       "    }\n",
       "\n",
       "    .dataframe tbody tr th {\n",
       "        vertical-align: top;\n",
       "    }\n",
       "\n",
       "    .dataframe thead th {\n",
       "        text-align: right;\n",
       "    }\n",
       "</style>\n",
       "<table border=\"1\" class=\"dataframe\">\n",
       "  <thead>\n",
       "    <tr style=\"text-align: right;\">\n",
       "      <th></th>\n",
       "    </tr>\n",
       "  </thead>\n",
       "  <tbody>\n",
       "  </tbody>\n",
       "</table>\n",
       "</div>"
      ],
      "text/plain": [
       "Empty DataFrame\n",
       "Columns: []\n",
       "Index: []"
      ]
     },
     "execution_count": 39,
     "metadata": {},
     "output_type": "execute_result"
    }
   ],
   "source": [
    "db.query_to_dataframe(select_invalid_business_id_where_bad_postal_code)"
   ]
  },
  {
   "cell_type": "code",
   "execution_count": 40,
   "metadata": {},
   "outputs": [
    {
     "name": "stdout",
     "output_type": "stream",
     "text": [
      "\n",
      "SELECT id \n",
      "FROM (\n",
      "SELECT * FROM business\n",
      "WHERE \n",
      "    (latitude IS NULL\n",
      "     OR longitude IS NULL)\n",
      "OR \n",
      "    (latitude = 0 \n",
      "     OR longitude = 0)\n",
      ") q\n",
      "WHERE postal_code IN (\n",
      "SELECT postal_code FROM \n",
      "    (\n",
      "SELECT postal_code, COUNT(*) FROM business\n",
      "GROUP BY postal_code\n",
      "ORDER BY postal_code\n",
      ") this_subquery\n",
      "WHERE count < 10\n",
      ")\n",
      "\n"
     ]
    }
   ],
   "source": [
    "print(select_invalid_business_id_where_bad_postal_code)"
   ]
  },
  {
   "cell_type": "markdown",
   "metadata": {},
   "source": [
    "We can use this subquery in our `DELETE` query."
   ]
  },
  {
   "cell_type": "markdown",
   "metadata": {},
   "source": [
    "Remember, that a **delete** action is a write action and needs to be handled as a transaction. We need to `BEGIN` and `COMMIT`. "
   ]
  },
  {
   "cell_type": "code",
   "execution_count": 41,
   "metadata": {},
   "outputs": [
    {
     "name": "stdout",
     "output_type": "stream",
     "text": [
      "\n",
      "BEGIN;\n",
      "DELETE \n",
      "FROM business\n",
      "WHERE id IN (\n",
      "SELECT id \n",
      "FROM (\n",
      "SELECT * FROM business\n",
      "WHERE \n",
      "    (latitude IS NULL\n",
      "     OR longitude IS NULL)\n",
      "OR \n",
      "    (latitude = 0 \n",
      "     OR longitude = 0)\n",
      ") q\n",
      "WHERE postal_code IN (\n",
      "SELECT postal_code FROM \n",
      "    (\n",
      "SELECT postal_code, COUNT(*) FROM business\n",
      "GROUP BY postal_code\n",
      "ORDER BY postal_code\n",
      ") this_subquery\n",
      "WHERE count < 10\n",
      ")\n",
      ");\n",
      "COMMIT;\n",
      "\n"
     ]
    }
   ],
   "source": [
    "delete_invalid_business_bad_postal_code = \"\"\"\n",
    "BEGIN;\n",
    "DELETE \n",
    "FROM business\n",
    "WHERE id IN ({});\n",
    "COMMIT;\n",
    "\"\"\".format(select_invalid_business_id_where_bad_postal_code)\n",
    "print(delete_invalid_business_bad_postal_code)"
   ]
  },
  {
   "cell_type": "markdown",
   "metadata": {},
   "source": [
    "Remember, when we execute this we do not need to fetch results so we should set `fetch_res` to `False`."
   ]
  },
  {
   "cell_type": "code",
   "execution_count": 42,
   "metadata": {},
   "outputs": [],
   "source": [
    "db.query_to_dictionary(delete_invalid_business_bad_postal_code, fetch_res=False)"
   ]
  },
  {
   "cell_type": "markdown",
   "metadata": {},
   "source": [
    "Let's have a look at the sql file used to define our database. "
   ]
  },
  {
   "cell_type": "markdown",
   "metadata": {},
   "source": [
    "```SQL\n",
    "CREATE TABLE business (\n",
    "    id INTEGER,\n",
    "    name TEXT,\n",
    "    address TEXT,\n",
    "    city TEXT,\n",
    "    state TEXT,\n",
    "    postal_code INTEGER,\n",
    "    latitude FLOAT,\n",
    "    longitude FLOAT,\n",
    "    phone_number TEXT,\n",
    "    PRIMARY KEY (id));\n",
    "\n",
    "CREATE TABLE inspection (\n",
    "    business_id INTEGER,\n",
    "    score INTEGER,\n",
    "    date TIMESTAMP,\n",
    "    type TEXT,\n",
    "    CONSTRAINT fk_business_id\n",
    "    FOREIGN KEY (business_id)\n",
    "    REFERENCES business (id));\n",
    "\n",
    "CREATE TABLE legend (\n",
    "    minimum_score INTEGER,\n",
    "    maximum_score INTEGER,\n",
    "    description TEXT);\n",
    "\n",
    "CREATE TABLE violation (\n",
    "    business_id INTEGER,\n",
    "    date TIMESTAMP,\n",
    "    description TEXT,\n",
    "    CONSTRAINT fk_business_id\n",
    "    FOREIGN KEY (business_id)\n",
    "    REFERENCES business (id));\n",
    "\n",
    "```"
   ]
  },
  {
   "cell_type": "markdown",
   "metadata": {},
   "source": [
    "Note that we have foreign key `CONSTRAINT`s on the `inspection` and `violation` tables.  "
   ]
  },
  {
   "cell_type": "markdown",
   "metadata": {},
   "source": [
    "This means that, in order to drop the businesses with \"bad\" data, we will need to drop any inspections and violations associated with these. "
   ]
  },
  {
   "cell_type": "markdown",
   "metadata": {},
   "source": [
    "### \"Bad\" Business Data"
   ]
  },
  {
   "cell_type": "code",
   "execution_count": 43,
   "metadata": {},
   "outputs": [
    {
     "data": {
      "text/html": [
       "<div>\n",
       "<style scoped>\n",
       "    .dataframe tbody tr th:only-of-type {\n",
       "        vertical-align: middle;\n",
       "    }\n",
       "\n",
       "    .dataframe tbody tr th {\n",
       "        vertical-align: top;\n",
       "    }\n",
       "\n",
       "    .dataframe thead th {\n",
       "        text-align: right;\n",
       "    }\n",
       "</style>\n",
       "<table border=\"1\" class=\"dataframe\">\n",
       "  <thead>\n",
       "    <tr style=\"text-align: right;\">\n",
       "      <th></th>\n",
       "    </tr>\n",
       "  </thead>\n",
       "  <tbody>\n",
       "  </tbody>\n",
       "</table>\n",
       "</div>"
      ],
      "text/plain": [
       "Empty DataFrame\n",
       "Columns: []\n",
       "Index: []"
      ]
     },
     "execution_count": 43,
     "metadata": {},
     "output_type": "execute_result"
    }
   ],
   "source": [
    "db.query_to_dataframe(select_invalid_business_id_where_bad_postal_code)"
   ]
  },
  {
   "cell_type": "code",
   "execution_count": 44,
   "metadata": {},
   "outputs": [
    {
     "name": "stdout",
     "output_type": "stream",
     "text": [
      "\n",
      "SELECT id \n",
      "FROM (\n",
      "SELECT * FROM business\n",
      "WHERE \n",
      "    (latitude IS NULL\n",
      "     OR longitude IS NULL)\n",
      "OR \n",
      "    (latitude = 0 \n",
      "     OR longitude = 0)\n",
      ") q\n",
      "WHERE postal_code IN (\n",
      "SELECT postal_code FROM \n",
      "    (\n",
      "SELECT postal_code, COUNT(*) FROM business\n",
      "GROUP BY postal_code\n",
      "ORDER BY postal_code\n",
      ") this_subquery\n",
      "WHERE count < 10\n",
      ")\n",
      "\n"
     ]
    }
   ],
   "source": [
    "print(select_invalid_business_id_where_bad_postal_code)"
   ]
  },
  {
   "cell_type": "code",
   "execution_count": 45,
   "metadata": {},
   "outputs": [],
   "source": [
    "select_violations_for_bad_biz = \"\"\"\n",
    "SELECT * FROM violation\n",
    "WHERE business_id IN ({})\n",
    "\"\"\".format(select_invalid_business_id_where_bad_postal_code)"
   ]
  },
  {
   "cell_type": "code",
   "execution_count": 46,
   "metadata": {},
   "outputs": [
    {
     "data": {
      "text/html": [
       "<div>\n",
       "<style scoped>\n",
       "    .dataframe tbody tr th:only-of-type {\n",
       "        vertical-align: middle;\n",
       "    }\n",
       "\n",
       "    .dataframe tbody tr th {\n",
       "        vertical-align: top;\n",
       "    }\n",
       "\n",
       "    .dataframe thead th {\n",
       "        text-align: right;\n",
       "    }\n",
       "</style>\n",
       "<table border=\"1\" class=\"dataframe\">\n",
       "  <thead>\n",
       "    <tr style=\"text-align: right;\">\n",
       "      <th></th>\n",
       "    </tr>\n",
       "  </thead>\n",
       "  <tbody>\n",
       "  </tbody>\n",
       "</table>\n",
       "</div>"
      ],
      "text/plain": [
       "Empty DataFrame\n",
       "Columns: []\n",
       "Index: []"
      ]
     },
     "execution_count": 46,
     "metadata": {},
     "output_type": "execute_result"
    }
   ],
   "source": [
    "db.query_to_dataframe(select_violations_for_bad_biz)"
   ]
  },
  {
   "cell_type": "markdown",
   "metadata": {},
   "source": [
    "### Delete Violations"
   ]
  },
  {
   "cell_type": "code",
   "execution_count": 47,
   "metadata": {},
   "outputs": [],
   "source": [
    "select_count_violation = \"\"\"\n",
    "SELECT COUNT(*) FROM violation\"\"\""
   ]
  },
  {
   "cell_type": "code",
   "execution_count": 48,
   "metadata": {},
   "outputs": [
    {
     "data": {
      "text/html": [
       "<div>\n",
       "<style scoped>\n",
       "    .dataframe tbody tr th:only-of-type {\n",
       "        vertical-align: middle;\n",
       "    }\n",
       "\n",
       "    .dataframe tbody tr th {\n",
       "        vertical-align: top;\n",
       "    }\n",
       "\n",
       "    .dataframe thead th {\n",
       "        text-align: right;\n",
       "    }\n",
       "</style>\n",
       "<table border=\"1\" class=\"dataframe\">\n",
       "  <thead>\n",
       "    <tr style=\"text-align: right;\">\n",
       "      <th></th>\n",
       "      <th>count</th>\n",
       "    </tr>\n",
       "  </thead>\n",
       "  <tbody>\n",
       "    <tr>\n",
       "      <th>0</th>\n",
       "      <td>39863</td>\n",
       "    </tr>\n",
       "  </tbody>\n",
       "</table>\n",
       "</div>"
      ],
      "text/plain": [
       "   count\n",
       "0  39863"
      ]
     },
     "execution_count": 48,
     "metadata": {},
     "output_type": "execute_result"
    }
   ],
   "source": [
    "db.query_to_dataframe(select_count_violation)"
   ]
  },
  {
   "cell_type": "code",
   "execution_count": 49,
   "metadata": {},
   "outputs": [],
   "source": [
    "delete_violations_for_bad_biz = \"\"\"\n",
    "BEGIN;\n",
    "DELETE FROM violation\n",
    "WHERE business_id IN ({});\n",
    "COMMIT;\"\"\".format(select_invalid_business_id_where_bad_postal_code)"
   ]
  },
  {
   "cell_type": "code",
   "execution_count": 50,
   "metadata": {},
   "outputs": [],
   "source": [
    "db.query_to_dictionary(delete_violations_for_bad_biz, fetch_res=False)"
   ]
  },
  {
   "cell_type": "code",
   "execution_count": 51,
   "metadata": {},
   "outputs": [
    {
     "data": {
      "text/html": [
       "<div>\n",
       "<style scoped>\n",
       "    .dataframe tbody tr th:only-of-type {\n",
       "        vertical-align: middle;\n",
       "    }\n",
       "\n",
       "    .dataframe tbody tr th {\n",
       "        vertical-align: top;\n",
       "    }\n",
       "\n",
       "    .dataframe thead th {\n",
       "        text-align: right;\n",
       "    }\n",
       "</style>\n",
       "<table border=\"1\" class=\"dataframe\">\n",
       "  <thead>\n",
       "    <tr style=\"text-align: right;\">\n",
       "      <th></th>\n",
       "      <th>count</th>\n",
       "    </tr>\n",
       "  </thead>\n",
       "  <tbody>\n",
       "    <tr>\n",
       "      <th>0</th>\n",
       "      <td>39863</td>\n",
       "    </tr>\n",
       "  </tbody>\n",
       "</table>\n",
       "</div>"
      ],
      "text/plain": [
       "   count\n",
       "0  39863"
      ]
     },
     "execution_count": 51,
     "metadata": {},
     "output_type": "execute_result"
    }
   ],
   "source": [
    "db.query_to_dataframe(select_count_violation)"
   ]
  },
  {
   "cell_type": "markdown",
   "metadata": {},
   "source": [
    "### Delete Inspections"
   ]
  },
  {
   "cell_type": "code",
   "execution_count": 52,
   "metadata": {},
   "outputs": [],
   "source": [
    "select_count_inspections = \"\"\"\n",
    "SELECT COUNT(*) FROM inspection\"\"\""
   ]
  },
  {
   "cell_type": "code",
   "execution_count": 53,
   "metadata": {},
   "outputs": [
    {
     "data": {
      "text/html": [
       "<div>\n",
       "<style scoped>\n",
       "    .dataframe tbody tr th:only-of-type {\n",
       "        vertical-align: middle;\n",
       "    }\n",
       "\n",
       "    .dataframe tbody tr th {\n",
       "        vertical-align: top;\n",
       "    }\n",
       "\n",
       "    .dataframe thead th {\n",
       "        text-align: right;\n",
       "    }\n",
       "</style>\n",
       "<table border=\"1\" class=\"dataframe\">\n",
       "  <thead>\n",
       "    <tr style=\"text-align: right;\">\n",
       "      <th></th>\n",
       "      <th>count</th>\n",
       "    </tr>\n",
       "  </thead>\n",
       "  <tbody>\n",
       "    <tr>\n",
       "      <th>0</th>\n",
       "      <td>15408</td>\n",
       "    </tr>\n",
       "  </tbody>\n",
       "</table>\n",
       "</div>"
      ],
      "text/plain": [
       "   count\n",
       "0  15408"
      ]
     },
     "execution_count": 53,
     "metadata": {},
     "output_type": "execute_result"
    }
   ],
   "source": [
    "db.query_to_dataframe(select_count_inspections)"
   ]
  },
  {
   "cell_type": "code",
   "execution_count": 54,
   "metadata": {},
   "outputs": [],
   "source": [
    "delete_inspections_for_bad_biz = \"\"\"\n",
    "BEGIN;\n",
    "DELETE FROM inspection\n",
    "WHERE business_id IN ({});\n",
    "COMMIT;\"\"\".format(select_invalid_business_id_where_bad_postal_code)"
   ]
  },
  {
   "cell_type": "code",
   "execution_count": null,
   "metadata": {},
   "outputs": [],
   "source": [
    "db.query_to_dictionary(delete_inspections_for_bad_biz, fetch_res=False)"
   ]
  },
  {
   "cell_type": "code",
   "execution_count": null,
   "metadata": {},
   "outputs": [],
   "source": [
    "db.query_to_dataframe(select_count_inspections)"
   ]
  },
  {
   "cell_type": "markdown",
   "metadata": {},
   "source": [
    "### Delete Businesses"
   ]
  },
  {
   "cell_type": "code",
   "execution_count": null,
   "metadata": {},
   "outputs": [],
   "source": [
    "db.query_to_dataframe(select_count_business)"
   ]
  },
  {
   "cell_type": "code",
   "execution_count": null,
   "metadata": {},
   "outputs": [],
   "source": [
    "db.query_to_dictionary(delete_invalid_business_bad_postal_code, fetch_res=False)"
   ]
  },
  {
   "cell_type": "code",
   "execution_count": null,
   "metadata": {},
   "outputs": [],
   "source": [
    "db.query_to_dataframe(select_count_business)"
   ]
  },
  {
   "cell_type": "markdown",
   "metadata": {},
   "source": [
    "### Pull Bad Postal Codes Again"
   ]
  },
  {
   "cell_type": "code",
   "execution_count": null,
   "metadata": {},
   "outputs": [],
   "source": [
    "db.query_to_dataframe(select_postal_code_by_postal_code_less_than_10)"
   ]
  },
  {
   "cell_type": "markdown",
   "metadata": {},
   "source": [
    "## Repair Bad Zip Codes\n",
    "To repair the bad zip codes, we will attempt match the nearest points using GIS. \n",
    "\n",
    "To do this, we will first need to populate the `gpnt_location` column."
   ]
  },
  {
   "cell_type": "code",
   "execution_count": null,
   "metadata": {},
   "outputs": [],
   "source": [
    "db.query_to_dataframe(select_business_valid).sample(4)"
   ]
  },
  {
   "cell_type": "code",
   "execution_count": null,
   "metadata": {},
   "outputs": [],
   "source": [
    "update_gpnt = \"\"\"\n",
    "BEGIN;\n",
    "UPDATE business SET \n",
    "gpnt_location = ST_SetSRID(ST_MakePoint(latitude, longitude),4326);\n",
    "COMMIT;\n",
    "\"\"\""
   ]
  },
  {
   "cell_type": "code",
   "execution_count": null,
   "metadata": {},
   "outputs": [],
   "source": [
    "db.query_to_dictionary(update_gpnt, fetch_res=False)"
   ]
  },
  {
   "cell_type": "markdown",
   "metadata": {},
   "source": [
    "### Match points to the points with bad zip codes using a given radius"
   ]
  },
  {
   "cell_type": "code",
   "execution_count": null,
   "metadata": {},
   "outputs": [],
   "source": [
    "db.query_to_dataframe(select_postal_code_by_postal_code_less_than_10)"
   ]
  },
  {
   "cell_type": "code",
   "execution_count": null,
   "metadata": {},
   "outputs": [],
   "source": [
    "def select_postal_code(postal_code):\n",
    "    return \"\"\"SELECT * FROM business WHERE postal_code = {}\"\"\".format(postal_code)"
   ]
  },
  {
   "cell_type": "code",
   "execution_count": null,
   "metadata": {},
   "outputs": [],
   "source": [
    "db.query_to_dataframe(select_postal_code(92672))"
   ]
  },
  {
   "cell_type": "code",
   "execution_count": 64,
   "metadata": {},
   "outputs": [],
   "source": [
    "def select_gpnt_for_postal_code(postal_code):\n",
    "    return \"\"\"SELECT gpnt_location FROM business WHERE postal_code = {} LIMIT 1\"\"\".format(postal_code)"
   ]
  },
  {
   "cell_type": "code",
   "execution_count": 62,
   "metadata": {},
   "outputs": [],
   "source": [
    "def select_on_gpnt_radius(postal_code, distance):\n",
    "    return \"\"\"\n",
    "            SELECT *\n",
    "            FROM business WHERE ST_Distance_Sphere(gpnt_location, ({})) <= {}\n",
    "            \"\"\".format(select_gpnt_for_postal_code(postal_code), distance)"
   ]
  },
  {
   "cell_type": "code",
   "execution_count": null,
   "metadata": {},
   "outputs": [],
   "source": [
    "db.query_to_dataframe(select_on_gpnt_radius(92672, 100))"
   ]
  },
  {
   "cell_type": "code",
   "execution_count": null,
   "metadata": {},
   "outputs": [],
   "source": [
    "update_92672 = \"\"\"\n",
    "BEGIN;\n",
    "UPDATE business SET postal_code = 94117 WHERE postal_code = 92672;\n",
    "COMMIT;\n",
    "\"\"\""
   ]
  },
  {
   "cell_type": "code",
   "execution_count": null,
   "metadata": {},
   "outputs": [],
   "source": [
    "db.query_to_dictionary(update_92672, fetch_res=False)"
   ]
  },
  {
   "cell_type": "markdown",
   "metadata": {},
   "source": [
    "### Check the Status of our Bad Postal Codes"
   ]
  },
  {
   "cell_type": "code",
   "execution_count": null,
   "metadata": {},
   "outputs": [],
   "source": [
    "db.query_to_dataframe(select_postal_code_by_postal_code_less_than_10)"
   ]
  },
  {
   "cell_type": "code",
   "execution_count": null,
   "metadata": {},
   "outputs": [],
   "source": [
    "db.query_to_dataframe(select_on_gpnt_radius(94101, 100))"
   ]
  },
  {
   "cell_type": "markdown",
   "metadata": {},
   "source": [
    "## Plot locations"
   ]
  },
  {
   "cell_type": "markdown",
   "metadata": {},
   "source": [
    "Next, we will use Folium to plot the businesses for which we have a latitude and a longitude. "
   ]
  },
  {
   "cell_type": "markdown",
   "metadata": {},
   "source": [
    "### `folium.Map` \n",
    "\n",
    "To build our `folium.Map` object we will need to center the map in a given location. We will use the `avg` aggregate function to do this. "
   ]
  },
  {
   "cell_type": "code",
   "execution_count": 55,
   "metadata": {},
   "outputs": [],
   "source": [
    "import folium"
   ]
  },
  {
   "cell_type": "code",
   "execution_count": 56,
   "metadata": {},
   "outputs": [],
   "source": [
    "avg_location_sf = \"\"\"\n",
    "SELECT avg(latitude) as avg_lat, \n",
    "       avg(longitude) as avg_lon FROM ({}) q;\n",
    "\"\"\".format(select_business_valid)"
   ]
  },
  {
   "cell_type": "code",
   "execution_count": 57,
   "metadata": {},
   "outputs": [
    {
     "data": {
      "text/html": [
       "<div>\n",
       "<style scoped>\n",
       "    .dataframe tbody tr th:only-of-type {\n",
       "        vertical-align: middle;\n",
       "    }\n",
       "\n",
       "    .dataframe tbody tr th {\n",
       "        vertical-align: top;\n",
       "    }\n",
       "\n",
       "    .dataframe thead th {\n",
       "        text-align: right;\n",
       "    }\n",
       "</style>\n",
       "<table border=\"1\" class=\"dataframe\">\n",
       "  <thead>\n",
       "    <tr style=\"text-align: right;\">\n",
       "      <th></th>\n",
       "      <th>avg_lat</th>\n",
       "      <th>avg_lon</th>\n",
       "    </tr>\n",
       "  </thead>\n",
       "  <tbody>\n",
       "    <tr>\n",
       "      <th>0</th>\n",
       "      <td>37.774003</td>\n",
       "      <td>-122.425144</td>\n",
       "    </tr>\n",
       "  </tbody>\n",
       "</table>\n",
       "</div>"
      ],
      "text/plain": [
       "     avg_lat     avg_lon\n",
       "0  37.774003 -122.425144"
      ]
     },
     "execution_count": 57,
     "metadata": {},
     "output_type": "execute_result"
    }
   ],
   "source": [
    "db.query_to_dataframe(avg_location_sf)"
   ]
  },
  {
   "cell_type": "code",
   "execution_count": 58,
   "metadata": {},
   "outputs": [],
   "source": [
    "avg_loc_df = db.query_to_dataframe(avg_location_sf)"
   ]
  },
  {
   "cell_type": "markdown",
   "metadata": {},
   "source": [
    "Then assign the result as a single list value."
   ]
  },
  {
   "cell_type": "code",
   "execution_count": 59,
   "metadata": {},
   "outputs": [],
   "source": [
    "avg_loc = avg_loc_df.values.tolist()[0]"
   ]
  },
  {
   "cell_type": "code",
   "execution_count": 60,
   "metadata": {},
   "outputs": [],
   "source": [
    "sf_map = folium.Map(location=avg_loc, zoom_start=13)"
   ]
  },
  {
   "cell_type": "code",
   "execution_count": 65,
   "metadata": {},
   "outputs": [],
   "source": [
    "within_200_meters_of_94101 = db.query_to_dataframe(select_on_gpnt_radius(94101, 100))"
   ]
  },
  {
   "cell_type": "code",
   "execution_count": 66,
   "metadata": {},
   "outputs": [],
   "source": [
    "near_94101_lat_long = within_200_meters_of_94101[['latitude', 'longitude','postal_code']].values.tolist()"
   ]
  },
  {
   "cell_type": "code",
   "execution_count": 69,
   "metadata": {},
   "outputs": [
    {
     "name": "stdout",
     "output_type": "stream",
     "text": [
      "[[37.773467, -122.418093, 94103.0], [37.775975, -122.418129, 94103.0], [37.775977, -122.418126, 94103.0], [37.773447, -122.418123, 94103.0], [37.774998, -122.418299, 94101.0], [37.776154, -122.418049, 94102.0], [37.776144, -122.418058, 94102.0]]\n"
     ]
    }
   ],
   "source": [
    "for loc in near_94101_lat_long:\n",
    "    try:\n",
    "        postal_code = str(int(loc[2]))\n",
    "    except:\n",
    "        postal_code = None\n",
    "    folium.Marker(loc[:2],postal_code).add_to(sf_map)\n",
    "print(near_94101_lat_long)"
   ]
  },
  {
   "cell_type": "code",
   "execution_count": 68,
   "metadata": {
    "scrolled": false
   },
   "outputs": [
    {
     "data": {
      "text/html": [
       "<div style=\"width:100%;\"><div style=\"position:relative;width:100%;height:0;padding-bottom:60%;\"><iframe src=\"data:text/html;charset=utf-8;base64,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\" style=\"position:absolute;width:100%;height:100%;left:0;top:0;border:none !important;\" allowfullscreen webkitallowfullscreen mozallowfullscreen></iframe></div></div>"
      ],
      "text/plain": [
       "<folium.folium.Map at 0x7f0308c74160>"
      ]
     },
     "execution_count": 68,
     "metadata": {},
     "output_type": "execute_result"
    }
   ],
   "source": [
    "sf_map"
   ]
  },
  {
   "cell_type": "code",
   "execution_count": null,
   "metadata": {},
   "outputs": [],
   "source": []
  }
 ],
 "metadata": {
  "kernelspec": {
   "display_name": "Python 3",
   "language": "python",
   "name": "python3"
  },
  "language_info": {
   "codemirror_mode": {
    "name": "ipython",
    "version": 3
   },
   "file_extension": ".py",
   "mimetype": "text/x-python",
   "name": "python",
   "nbconvert_exporter": "python",
   "pygments_lexer": "ipython3",
   "version": "3.6.5"
  },
  "varInspector": {
   "cols": {
    "lenName": 16,
    "lenType": 16,
    "lenVar": 40
   },
   "kernels_config": {
    "python": {
     "delete_cmd_postfix": "",
     "delete_cmd_prefix": "del ",
     "library": "var_list.py",
     "varRefreshCmd": "print(var_dic_list())"
    },
    "r": {
     "delete_cmd_postfix": ") ",
     "delete_cmd_prefix": "rm(",
     "library": "var_list.r",
     "varRefreshCmd": "cat(var_dic_list()) "
    }
   },
   "types_to_exclude": [
    "module",
    "function",
    "builtin_function_or_method",
    "instance",
    "_Feature"
   ],
   "window_display": false
  }
 },
 "nbformat": 4,
 "nbformat_minor": 2
}
